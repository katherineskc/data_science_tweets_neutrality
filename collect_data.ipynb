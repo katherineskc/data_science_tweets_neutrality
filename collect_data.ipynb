{
 "cells": [
  {
   "cell_type": "code",
   "execution_count": 1,
   "id": "2a1dff73",
   "metadata": {},
   "outputs": [],
   "source": [
    "# collect data from Twitter using Twitter API"
   ]
  },
  {
   "cell_type": "code",
   "execution_count": 3,
   "id": "464364d9",
   "metadata": {},
   "outputs": [
    {
     "name": "stdout",
     "output_type": "stream",
     "text": [
      "Collecting tweepy\n",
      "  Downloading tweepy-4.10.0-py3-none-any.whl (94 kB)\n",
      "\u001b[2K     \u001b[90m━━━━━━━━━━━━━━━━━━━━━━━━━━━━━━━━━━━━━━━━\u001b[0m \u001b[32m94.4/94.4 KB\u001b[0m \u001b[31m6.1 MB/s\u001b[0m eta \u001b[36m0:00:00\u001b[0m\n",
      "\u001b[?25hRequirement already satisfied: oauthlib<4,>=3.2.0 in /srv/conda/envs/notebook/lib/python3.9/site-packages (from tweepy) (3.2.0)\n",
      "Collecting requests-oauthlib<2,>=1.2.0\n",
      "  Downloading requests_oauthlib-1.3.1-py2.py3-none-any.whl (23 kB)\n",
      "Requirement already satisfied: requests<3,>=2.27.0 in /srv/conda/envs/notebook/lib/python3.9/site-packages (from tweepy) (2.27.1)\n",
      "Requirement already satisfied: charset-normalizer~=2.0.0 in /srv/conda/envs/notebook/lib/python3.9/site-packages (from requests<3,>=2.27.0->tweepy) (2.0.12)\n",
      "Requirement already satisfied: urllib3<1.27,>=1.21.1 in /srv/conda/envs/notebook/lib/python3.9/site-packages (from requests<3,>=2.27.0->tweepy) (1.26.9)\n",
      "Requirement already satisfied: certifi>=2017.4.17 in /srv/conda/envs/notebook/lib/python3.9/site-packages (from requests<3,>=2.27.0->tweepy) (2021.10.8)\n",
      "Requirement already satisfied: idna<4,>=2.5 in /srv/conda/envs/notebook/lib/python3.9/site-packages (from requests<3,>=2.27.0->tweepy) (3.3)\n",
      "Installing collected packages: requests-oauthlib, tweepy\n",
      "Successfully installed requests-oauthlib-1.3.1 tweepy-4.10.0\n",
      "4.10.0\n"
     ]
    }
   ],
   "source": [
    "# !pip install tweepy\n",
    "import tweepy as tw\n",
    "print(tw.__version__)"
   ]
  },
  {
   "cell_type": "code",
   "execution_count": 15,
   "id": "ebaf2ecf-826f-49df-8b82-12d3d5ba9027",
   "metadata": {},
   "outputs": [],
   "source": [
    "# !pip install pandas\n",
    "import pandas as pd\n",
    "import json\n",
    "import time\n",
    "import csv"
   ]
  },
  {
   "cell_type": "code",
   "execution_count": 28,
   "id": "a30af8e9",
   "metadata": {},
   "outputs": [],
   "source": [
    "# assign the values accordingly"
   ]
  },
  {
   "cell_type": "code",
   "execution_count": 29,
   "id": "8a78d6d1-3c08-48f1-8262-ac17733bc4eb",
   "metadata": {},
   "outputs": [],
   "source": [
    "client = tw.Client(\n",
    "    wait_on_rate_limit = True,\n",
    "    consumer_key = consumer_key,\n",
    "    consumer_secret = consumer_secret,\n",
    "    access_token = access_token,\n",
    "    access_token_secret = access_token_secret,\n",
    "    bearer_token = bearer_token,\n",
    ")"
   ]
  },
  {
   "cell_type": "code",
   "execution_count": 30,
   "id": "1f72abc2-c2e3-4fe2-aa70-9e82096233d8",
   "metadata": {},
   "outputs": [
    {
     "data": {
      "text/plain": [
       "<tweepy.client.Client at 0x7f13b9bdae50>"
      ]
     },
     "execution_count": 30,
     "metadata": {},
     "output_type": "execute_result"
    }
   ],
   "source": [
    "# client = tw.Client(bearer_token)\n",
    "client"
   ]
  },
  {
   "cell_type": "code",
   "execution_count": 32,
   "id": "d82c6913-26ff-40c2-a227-0731b8e18ade",
   "metadata": {},
   "outputs": [],
   "source": [
    "username_list = [\"ABC\",\"ABCPolitics\",\"ABCNewsLive\"]\n",
    "\n",
    "# ,\"BBCWorld\",\"BBCBreaking\",\"BBCNews\",\"BBCNorthAmerica\",\n",
    "#                  \"CBSNews\",\"CBSPolitics\",\"CBSNewsPoll\",\"CNN\",\"cnnbrk\",\"CNNPolitics\",\"FoxNews\",\"foxnewspolitics\",\n",
    "#                  \"euronews\",\"MSNBC\",\"NBCNews\",\"NBCPolitics\",\"nytimes\",\"nytpolitics\",\"NPR\",\"nprpolitics\",\"SkyNews\",\n",
    "#                  \"USATODAY\",\"usatodayDC\",\"WSJ\",\"WSJusnews\",\"washingtonpost\""
   ]
  },
  {
   "cell_type": "code",
   "execution_count": 46,
   "id": "77e2f30a-6e0b-432a-8a91-50141d97022a",
   "metadata": {},
   "outputs": [],
   "source": [
    "# users = client.get_users(usernames=username_list, user_fields=[\"created_at\",\"location\",\"protected\",\"public_metrics\",\"verified\"])\n",
    "# users\n",
    "\n",
    "def get_users_details(usernames):\n",
    "        users_details = client.get_users(usernames=usernames, user_fields=[\"created_at\",\"location\",\"protected\",\"public_metrics\",\"verified\"])\n",
    "        return users_details\n",
    "\n",
    "users = get_users_details(username_list)\n",
    "users"
   ]
  },
  {
   "cell_type": "code",
   "execution_count": null,
   "id": "58af6472-3950-4cf3-985a-8ffdbf8fa5ba",
   "metadata": {},
   "outputs": [],
   "source": [
    "for user in users.data:\n",
    "    print(user[\"id\"])\n",
    "    print(user[\"created_at\"])"
   ]
  },
  {
   "cell_type": "code",
   "execution_count": null,
   "id": "28a223f4-a8c4-4a0c-8386-9fde52b285d3",
   "metadata": {},
   "outputs": [],
   "source": [
    "users.data[0][\"location\"]"
   ]
  },
  {
   "cell_type": "code",
   "execution_count": 1,
   "id": "98e77f76-b4f2-4205-9769-44d249b83f8b",
   "metadata": {},
   "outputs": [
    {
     "ename": "NameError",
     "evalue": "name 'users' is not defined",
     "output_type": "error",
     "traceback": [
      "\u001b[0;31m---------------------------------------------------------------------------\u001b[0m",
      "\u001b[0;31mNameError\u001b[0m                                 Traceback (most recent call last)",
      "Input \u001b[0;32mIn [1]\u001b[0m, in \u001b[0;36m<cell line: 2>\u001b[0;34m()\u001b[0m\n\u001b[1;32m      1\u001b[0m \u001b[38;5;66;03m# Save data as dictionary\u001b[39;00m\n\u001b[0;32m----> 2\u001b[0m users_dict \u001b[38;5;241m=\u001b[39m \u001b[43musers\u001b[49m\u001b[38;5;241m.\u001b[39mjson() \n\u001b[1;32m      4\u001b[0m \u001b[38;5;66;03m# Extract \"data\" value from dictionary\u001b[39;00m\n\u001b[1;32m      5\u001b[0m users_data \u001b[38;5;241m=\u001b[39m users_dict[\u001b[38;5;124m'\u001b[39m\u001b[38;5;124mdata\u001b[39m\u001b[38;5;124m'\u001b[39m] \n",
      "\u001b[0;31mNameError\u001b[0m: name 'users' is not defined"
     ]
    }
   ],
   "source": [
    "# Save data as dictionary\n",
    "users_dict = users.json() \n",
    "\n",
    "# Extract \"data\" value from dictionary\n",
    "users_data = users_dict['data'] \n",
    "\n",
    "# Transform to pandas Dataframe\n",
    "df = pd.json_normalize(users_data) \n",
    "\n",
    "df"
   ]
  },
  {
   "cell_type": "code",
   "execution_count": 38,
   "id": "065c176d-551b-464d-bba6-9366b16fc634",
   "metadata": {},
   "outputs": [
    {
     "name": "stderr",
     "output_type": "stream",
     "text": [
      "<ipython-input-38-1c7f32d9186a>:7: FutureWarning: The frame.append method is deprecated and will be removed from pandas in a future version. Use pandas.concat instead.\n",
      "  data_users = data_users.append( temp_data , ignore_index=True )\n",
      "<ipython-input-38-1c7f32d9186a>:7: FutureWarning: The frame.append method is deprecated and will be removed from pandas in a future version. Use pandas.concat instead.\n",
      "  data_users = data_users.append( temp_data , ignore_index=True )\n",
      "<ipython-input-38-1c7f32d9186a>:7: FutureWarning: The frame.append method is deprecated and will be removed from pandas in a future version. Use pandas.concat instead.\n",
      "  data_users = data_users.append( temp_data , ignore_index=True )\n"
     ]
    }
   ],
   "source": [
    "# Create empty dataframe\n",
    "data_users = pd.DataFrame()\n",
    "\n",
    "# Iterate through users_group and append data to the data_users dataframe\n",
    "for i in users.data:\n",
    "  temp_data = pd.json_normalize( i.data ,  sep = \"_\")\n",
    "  data_users = data_users.append( temp_data , ignore_index=True )"
   ]
  },
  {
   "cell_type": "code",
   "execution_count": 14,
   "id": "68b8f89e-d15c-4f05-a111-9c54aa8ed8a9",
   "metadata": {},
   "outputs": [
    {
     "ename": "NameError",
     "evalue": "name 'response' is not defined",
     "output_type": "error",
     "traceback": [
      "\u001b[0;31m---------------------------------------------------------------------------\u001b[0m",
      "\u001b[0;31mNameError\u001b[0m                                 Traceback (most recent call last)",
      "Input \u001b[0;32mIn [14]\u001b[0m, in \u001b[0;36m<cell line: 1>\u001b[0;34m()\u001b[0m\n\u001b[0;32m----> 1\u001b[0m df \u001b[38;5;241m=\u001b[39m pd\u001b[38;5;241m.\u001b[39mDataFrame(\u001b[43mresponse\u001b[49m[\u001b[38;5;124m'\u001b[39m\u001b[38;5;124musers\u001b[39m\u001b[38;5;124m'\u001b[39m])\n",
      "\u001b[0;31mNameError\u001b[0m: name 'response' is not defined"
     ]
    }
   ],
   "source": [
    "df = pd.DataFrame(response['users'])"
   ]
  },
  {
   "cell_type": "code",
   "execution_count": 51,
   "id": "9c6e94f7-7c26-40fc-8cab-7bdb00a96a9d",
   "metadata": {},
   "outputs": [
    {
     "name": "stdout",
     "output_type": "stream",
     "text": [
      "1551640435164061702\n",
      "Firefighters have managed to contain 10% of the blaze, officials say. https://t.co/yRdYAhx6co\n",
      "1551640001863159808\n",
      "BREAKING: Paul Sorvino, best known for starring in \"Goodfellas\" and \"Law &amp; Order,\" has passed away. He was 83. https://t.co/YRnNhktlij https://t.co/7duORP636e\n",
      "1551639937149272064\n",
      "17 states are now offering tax-free holidays for school supplies, cutting sales tax ahead of the start of school.\n",
      "\n",
      "Learn more: https://t.co/PIx6PAJQd9\n",
      "1551639716621164547\n",
      "As the heat hovering over much of the country continues, residents on the East Coast will soon have another extreme weather event to contend with: severe storms. https://t.co/DMHY31puar\n",
      "1551634902977839109\n",
      "Family Dollar shoppers should check their medicine cabinets and bathrooms for any recently recalled products. https://t.co/P8EGjd1uTx\n",
      "1551632233345286145\n",
      "NEW: The Georgia DA leading Fulton County's 2020 election probe has been barred from investigating one of the state's 16 alleged \"fake electors\" due to a conflict of interest. https://t.co/bDZ5xLpFqj\n",
      "1551628367652438017\n",
      "Despite some glimmers of hope, wildlife officials said that manatees continue to face dwindling food options and many survivors have been severely weakened by malnutrition. https://t.co/2n4avVHmPb\n",
      "1551624834689503232\n",
      "Pres. Biden's COVID-19 symptoms are \"almost completely resolved,\" his physician says. https://t.co/6dpS2mT5oP\n",
      "1551624426969604097\n",
      "Former GOP Congressman Steve Buyer, who represented Indiana from 1993-2011, was arrested Monday on insider trading charges. https://t.co/eb6i30BIrd\n",
      "1551619715864281088\n",
      "BREAKING: Officials update on report of shots fired at Dallas airport:\n",
      "\n",
      "- Woman began firing handgun; unclear where she was aiming.\n",
      "- Officer engaged suspect, who has been hospitalized. \n",
      "- No one besides suspect was injured.\n",
      "- Not an active situation.\n",
      "\n",
      "https://t.co/7SgVTIE0iy https://t.co/RkhnaQZHpl\n"
     ]
    }
   ],
   "source": [
    "# Get User's Tweets\n",
    "\n",
    "# This endpoint/method returns Tweets composed by a single user, specified by\n",
    "# the requested user ID\n",
    "\n",
    "user_id = 28785486\n",
    "\n",
    "response = client.get_users_tweets(user_id)\n",
    "\n",
    "# By default, only the ID and text fields of each Tweet will be returned\n",
    "for tweet in response.data:\n",
    "    print(tweet.id)\n",
    "    print(tweet.text)\n",
    "\n",
    "# By default, the 10 most recent Tweets will be returned\n",
    "# You can retrieve up to 100 Tweets by specifying max_results\n",
    "response = client.get_users_tweets(user_id, max_results=100)"
   ]
  },
  {
   "cell_type": "code",
   "execution_count": 13,
   "id": "e5ed298a",
   "metadata": {},
   "outputs": [],
   "source": [
    "# search_words = \"Joe Biden\" # This will be changed to Donald Trump when we retrieve tweets related to him.\n",
    "# date_since = \"2020-10-27\"\n",
    "# tweets = tw.Cursor(api.search_tweets, q=search_words, lang=\"en\").items(10)\n",
    "# tweets"
   ]
  },
  {
   "cell_type": "code",
   "execution_count": 14,
   "id": "b0248ef1",
   "metadata": {},
   "outputs": [],
   "source": [
    "# tweet_details = [[tweet.geo, tweet.text, tweet.user.screen_name, tweet.user.location] for tweet in tweets]\n",
    "# tweet_df = pd.DataFrame(data=tweet_details, columns=[\"geo\",\"text\",\"user\",\"location\"])\n",
    "# tweet_df.head()"
   ]
  },
  {
   "cell_type": "code",
   "execution_count": null,
   "id": "98e3e653",
   "metadata": {},
   "outputs": [],
   "source": [
    "# df.to_csv('data.csv')"
   ]
  }
 ],
 "metadata": {
  "kernelspec": {
   "display_name": "Python 3",
   "language": "python",
   "name": "python3"
  },
  "language_info": {
   "codemirror_mode": {
    "name": "ipython",
    "version": 3
   },
   "file_extension": ".py",
   "mimetype": "text/x-python",
   "name": "python",
   "nbconvert_exporter": "python",
   "pygments_lexer": "ipython3",
   "version": "3.9.13"
  }
 },
 "nbformat": 4,
 "nbformat_minor": 5
}
