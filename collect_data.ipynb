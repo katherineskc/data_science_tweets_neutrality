{
 "cells": [
  {
   "cell_type": "code",
   "execution_count": 1,
   "id": "2a1dff73",
   "metadata": {},
   "outputs": [],
   "source": [
    "# collect data from Twitter using Twitter API"
   ]
  },
  {
   "cell_type": "code",
   "execution_count": 1,
   "id": "464364d9",
   "metadata": {},
   "outputs": [
    {
     "name": "stdout",
     "output_type": "stream",
     "text": [
      "4.10.0\n"
     ]
    }
   ],
   "source": [
    "# !pip install tweepy\n",
    "import tweepy as tw\n",
    "print(tw.__version__)"
   ]
  },
  {
   "cell_type": "code",
   "execution_count": 2,
   "id": "ebaf2ecf-826f-49df-8b82-12d3d5ba9027",
   "metadata": {},
   "outputs": [
    {
     "name": "stdout",
     "output_type": "stream",
     "text": [
      "2.28.1\n"
     ]
    }
   ],
   "source": [
    "# !pip install pandas\n",
    "import pandas as pd\n",
    "import json\n",
    "import time\n",
    "import csv\n",
    "import requests\n",
    "print(requests.__version__)"
   ]
  },
  {
   "cell_type": "code",
   "execution_count": 3,
   "id": "a30af8e9",
   "metadata": {},
   "outputs": [],
   "source": [
    "# import keys from a .gitignore file\n",
    "\n",
    "import keys"
   ]
  },
  {
   "cell_type": "code",
   "execution_count": 4,
   "id": "8a78d6d1-3c08-48f1-8262-ac17733bc4eb",
   "metadata": {},
   "outputs": [],
   "source": [
    "# assign the values accordingly\n",
    "\n",
    "client = tw.Client(\n",
    "    wait_on_rate_limit = True,\n",
    "    consumer_key = keys.consumer_key,\n",
    "    consumer_secret = keys.consumer_secret,\n",
    "    access_token = keys.access_token,\n",
    "    access_token_secret = keys.access_token_secret,\n",
    "    bearer_token = keys.bearer_token,\n",
    ")"
   ]
  },
  {
   "cell_type": "code",
   "execution_count": 5,
   "id": "1f72abc2-c2e3-4fe2-aa70-9e82096233d8",
   "metadata": {},
   "outputs": [
    {
     "data": {
      "text/plain": [
       "<tweepy.client.Client at 0x7fc9325485b0>"
      ]
     },
     "execution_count": 5,
     "metadata": {},
     "output_type": "execute_result"
    }
   ],
   "source": [
    "# client = tw.Client(bearer_token)\n",
    "client"
   ]
  },
  {
   "cell_type": "code",
   "execution_count": 6,
   "id": "d82c6913-26ff-40c2-a227-0731b8e18ade",
   "metadata": {},
   "outputs": [
    {
     "data": {
      "text/html": [
       "<div>\n",
       "<style scoped>\n",
       "    .dataframe tbody tr th:only-of-type {\n",
       "        vertical-align: middle;\n",
       "    }\n",
       "\n",
       "    .dataframe tbody tr th {\n",
       "        vertical-align: top;\n",
       "    }\n",
       "\n",
       "    .dataframe thead th {\n",
       "        text-align: right;\n",
       "    }\n",
       "</style>\n",
       "<table border=\"1\" class=\"dataframe\">\n",
       "  <thead>\n",
       "    <tr style=\"text-align: right;\">\n",
       "      <th></th>\n",
       "      <th>news_media</th>\n",
       "      <th>twitter_username</th>\n",
       "      <th>us_or_foreign</th>\n",
       "      <th>general_or_political</th>\n",
       "    </tr>\n",
       "  </thead>\n",
       "  <tbody>\n",
       "    <tr>\n",
       "      <th>0</th>\n",
       "      <td>ABC News</td>\n",
       "      <td>ABC</td>\n",
       "      <td>US</td>\n",
       "      <td>General</td>\n",
       "    </tr>\n",
       "    <tr>\n",
       "      <th>1</th>\n",
       "      <td>ABC News</td>\n",
       "      <td>ABCPolitics</td>\n",
       "      <td>US</td>\n",
       "      <td>Political</td>\n",
       "    </tr>\n",
       "    <tr>\n",
       "      <th>2</th>\n",
       "      <td>ABC News</td>\n",
       "      <td>ABCNewsLive</td>\n",
       "      <td>US</td>\n",
       "      <td>General</td>\n",
       "    </tr>\n",
       "    <tr>\n",
       "      <th>3</th>\n",
       "      <td>BBC News</td>\n",
       "      <td>BBCWorld</td>\n",
       "      <td>Foreign</td>\n",
       "      <td>General</td>\n",
       "    </tr>\n",
       "    <tr>\n",
       "      <th>4</th>\n",
       "      <td>BBC News</td>\n",
       "      <td>BBCBreaking</td>\n",
       "      <td>Foreign</td>\n",
       "      <td>General</td>\n",
       "    </tr>\n",
       "    <tr>\n",
       "      <th>5</th>\n",
       "      <td>BBC News</td>\n",
       "      <td>BBCNews</td>\n",
       "      <td>Foreign</td>\n",
       "      <td>General</td>\n",
       "    </tr>\n",
       "    <tr>\n",
       "      <th>6</th>\n",
       "      <td>BBC News</td>\n",
       "      <td>BBCNorthAmerica</td>\n",
       "      <td>Foreign</td>\n",
       "      <td>General</td>\n",
       "    </tr>\n",
       "    <tr>\n",
       "      <th>7</th>\n",
       "      <td>CBS News</td>\n",
       "      <td>CBSNews</td>\n",
       "      <td>US</td>\n",
       "      <td>General</td>\n",
       "    </tr>\n",
       "    <tr>\n",
       "      <th>8</th>\n",
       "      <td>CBS News</td>\n",
       "      <td>CBSPolitics</td>\n",
       "      <td>US</td>\n",
       "      <td>Political</td>\n",
       "    </tr>\n",
       "    <tr>\n",
       "      <th>9</th>\n",
       "      <td>CBS News</td>\n",
       "      <td>CBSNewsPoll</td>\n",
       "      <td>US</td>\n",
       "      <td>Political</td>\n",
       "    </tr>\n",
       "    <tr>\n",
       "      <th>10</th>\n",
       "      <td>CNN</td>\n",
       "      <td>CNN</td>\n",
       "      <td>US</td>\n",
       "      <td>General</td>\n",
       "    </tr>\n",
       "    <tr>\n",
       "      <th>11</th>\n",
       "      <td>CNN</td>\n",
       "      <td>cnnbrk</td>\n",
       "      <td>US</td>\n",
       "      <td>General</td>\n",
       "    </tr>\n",
       "    <tr>\n",
       "      <th>12</th>\n",
       "      <td>CNN</td>\n",
       "      <td>CNNPolitics</td>\n",
       "      <td>US</td>\n",
       "      <td>Political</td>\n",
       "    </tr>\n",
       "    <tr>\n",
       "      <th>13</th>\n",
       "      <td>Fox News</td>\n",
       "      <td>FoxNews</td>\n",
       "      <td>US</td>\n",
       "      <td>General</td>\n",
       "    </tr>\n",
       "    <tr>\n",
       "      <th>14</th>\n",
       "      <td>Fox News</td>\n",
       "      <td>foxnewspolitics</td>\n",
       "      <td>US</td>\n",
       "      <td>Political</td>\n",
       "    </tr>\n",
       "    <tr>\n",
       "      <th>15</th>\n",
       "      <td>Euro news</td>\n",
       "      <td>euronews</td>\n",
       "      <td>Foreign</td>\n",
       "      <td>General</td>\n",
       "    </tr>\n",
       "    <tr>\n",
       "      <th>16</th>\n",
       "      <td>MSNBC</td>\n",
       "      <td>MSNBC</td>\n",
       "      <td>US</td>\n",
       "      <td>General</td>\n",
       "    </tr>\n",
       "    <tr>\n",
       "      <th>17</th>\n",
       "      <td>NBC News</td>\n",
       "      <td>NBCNews</td>\n",
       "      <td>US</td>\n",
       "      <td>General</td>\n",
       "    </tr>\n",
       "    <tr>\n",
       "      <th>18</th>\n",
       "      <td>NBC News</td>\n",
       "      <td>NBCPolitics</td>\n",
       "      <td>US</td>\n",
       "      <td>Political</td>\n",
       "    </tr>\n",
       "    <tr>\n",
       "      <th>19</th>\n",
       "      <td>New York Times</td>\n",
       "      <td>nytimes</td>\n",
       "      <td>US</td>\n",
       "      <td>General</td>\n",
       "    </tr>\n",
       "    <tr>\n",
       "      <th>20</th>\n",
       "      <td>New York Times</td>\n",
       "      <td>nytpolitics</td>\n",
       "      <td>US</td>\n",
       "      <td>Political</td>\n",
       "    </tr>\n",
       "    <tr>\n",
       "      <th>21</th>\n",
       "      <td>NPR</td>\n",
       "      <td>NPR</td>\n",
       "      <td>US</td>\n",
       "      <td>General</td>\n",
       "    </tr>\n",
       "    <tr>\n",
       "      <th>22</th>\n",
       "      <td>NPR</td>\n",
       "      <td>nprpolitics</td>\n",
       "      <td>US</td>\n",
       "      <td>Political</td>\n",
       "    </tr>\n",
       "    <tr>\n",
       "      <th>23</th>\n",
       "      <td>Sky news</td>\n",
       "      <td>SkyNews</td>\n",
       "      <td>Foreign</td>\n",
       "      <td>General</td>\n",
       "    </tr>\n",
       "    <tr>\n",
       "      <th>24</th>\n",
       "      <td>USA Today</td>\n",
       "      <td>USATODAY</td>\n",
       "      <td>US</td>\n",
       "      <td>General</td>\n",
       "    </tr>\n",
       "    <tr>\n",
       "      <th>25</th>\n",
       "      <td>USA Today</td>\n",
       "      <td>usatodayDC</td>\n",
       "      <td>US</td>\n",
       "      <td>General</td>\n",
       "    </tr>\n",
       "    <tr>\n",
       "      <th>26</th>\n",
       "      <td>Wall Street Journal</td>\n",
       "      <td>WSJ</td>\n",
       "      <td>US</td>\n",
       "      <td>General</td>\n",
       "    </tr>\n",
       "    <tr>\n",
       "      <th>27</th>\n",
       "      <td>Wall Street Journal</td>\n",
       "      <td>WSJusnews</td>\n",
       "      <td>US</td>\n",
       "      <td>General</td>\n",
       "    </tr>\n",
       "    <tr>\n",
       "      <th>28</th>\n",
       "      <td>Washington Post</td>\n",
       "      <td>washingtonpost</td>\n",
       "      <td>US</td>\n",
       "      <td>General</td>\n",
       "    </tr>\n",
       "  </tbody>\n",
       "</table>\n",
       "</div>"
      ],
      "text/plain": [
       "             news_media twitter_username us_or_foreign general_or_political\n",
       "0              ABC News              ABC            US              General\n",
       "1              ABC News      ABCPolitics            US            Political\n",
       "2              ABC News      ABCNewsLive            US              General\n",
       "3              BBC News         BBCWorld       Foreign              General\n",
       "4              BBC News      BBCBreaking       Foreign              General\n",
       "5              BBC News          BBCNews       Foreign              General\n",
       "6              BBC News  BBCNorthAmerica       Foreign              General\n",
       "7              CBS News          CBSNews            US              General\n",
       "8              CBS News      CBSPolitics            US            Political\n",
       "9              CBS News      CBSNewsPoll            US            Political\n",
       "10                  CNN              CNN            US              General\n",
       "11                  CNN           cnnbrk            US              General\n",
       "12                  CNN      CNNPolitics            US            Political\n",
       "13             Fox News          FoxNews            US              General\n",
       "14             Fox News  foxnewspolitics            US            Political\n",
       "15            Euro news         euronews       Foreign              General\n",
       "16                MSNBC            MSNBC            US              General\n",
       "17             NBC News          NBCNews            US              General\n",
       "18             NBC News      NBCPolitics            US            Political\n",
       "19       New York Times          nytimes            US              General\n",
       "20       New York Times      nytpolitics            US            Political\n",
       "21                  NPR              NPR            US              General\n",
       "22                  NPR      nprpolitics            US            Political\n",
       "23             Sky news          SkyNews       Foreign              General\n",
       "24            USA Today         USATODAY            US              General\n",
       "25            USA Today       usatodayDC            US              General\n",
       "26  Wall Street Journal              WSJ            US              General\n",
       "27  Wall Street Journal        WSJusnews            US              General\n",
       "28      Washington Post   washingtonpost            US              General"
      ]
     },
     "execution_count": 6,
     "metadata": {},
     "output_type": "execute_result"
    }
   ],
   "source": [
    "news_media_basic_data = pd.read_csv (r'/Users/katherina/data_science_tweets_neutrality/news_media_twitter_username.csv')\n",
    "news_media_basic_data"
   ]
  },
  {
   "cell_type": "code",
   "execution_count": 7,
   "id": "8c0452fe",
   "metadata": {},
   "outputs": [
    {
     "data": {
      "text/plain": [
       "['ABC', 'ABCPolitics', 'ABCNewsLive']"
      ]
     },
     "execution_count": 7,
     "metadata": {},
     "output_type": "execute_result"
    }
   ],
   "source": [
    "news_media_twitter_username_list = news_media_basic_data['twitter_username'].tolist()\n",
    "news_media_twitter_username_list\n",
    "\n",
    "news_media_twitter_username_list = [\"ABC\",\"ABCPolitics\",\"ABCNewsLive\"]\n",
    "news_media_twitter_username_list"
   ]
  },
  {
   "cell_type": "code",
   "execution_count": 8,
   "id": "77e2f30a-6e0b-432a-8a91-50141d97022a",
   "metadata": {},
   "outputs": [
    {
     "data": {
      "text/plain": [
       "Response(data=[<User id=28785486 name=ABC News username=ABC>, <User id=16815644 name=ABC News Politics username=ABCPolitics>, <User id=384438102 name=ABC News Live username=ABCNewsLive>], includes={}, errors=[], meta={})"
      ]
     },
     "execution_count": 8,
     "metadata": {},
     "output_type": "execute_result"
    }
   ],
   "source": [
    "# users = client.get_users(usernames=username_list, user_fields=[\"created_at\",\"location\",\"protected\",\"public_metrics\",\"verified\"])\n",
    "# users\n",
    "\n",
    "def get_users_details(usernames):\n",
    "        users_details = client.get_users(usernames=usernames, user_fields=[\"created_at\",\"location\",\"protected\",\"public_metrics\",\"verified\"])\n",
    "        return users_details\n",
    "\n",
    "twitter_user_details = get_users_details(news_media_twitter_username_list)\n",
    "twitter_user_details"
   ]
  },
  {
   "cell_type": "code",
   "execution_count": 11,
   "id": "a87e449c",
   "metadata": {},
   "outputs": [
    {
     "ename": "ValueError",
     "evalue": "dictionary update sequence element #0 has length 8; 2 is required",
     "output_type": "error",
     "traceback": [
      "\u001b[0;31m---------------------------------------------------------------------------\u001b[0m",
      "\u001b[0;31mValueError\u001b[0m                                Traceback (most recent call last)",
      "Input \u001b[0;32mIn [11]\u001b[0m, in \u001b[0;36m<cell line: 2>\u001b[0;34m()\u001b[0m\n\u001b[1;32m      1\u001b[0m \u001b[38;5;66;03m# Save data as dictionary\u001b[39;00m\n\u001b[0;32m----> 2\u001b[0m twitter_user_details_dict \u001b[38;5;241m=\u001b[39m \u001b[38;5;28;43mdict\u001b[39;49m\u001b[43m(\u001b[49m\u001b[43mtwitter_user_details\u001b[49m\u001b[38;5;241;43m.\u001b[39;49m\u001b[43mdata\u001b[49m\u001b[43m)\u001b[49m\n\u001b[1;32m      4\u001b[0m \u001b[38;5;66;03m# Extract \"data\" value from dictionary\u001b[39;00m\n\u001b[1;32m      5\u001b[0m twitter_user_details_data \u001b[38;5;241m=\u001b[39m twitter_user_details_dict[\u001b[38;5;124m'\u001b[39m\u001b[38;5;124mdata\u001b[39m\u001b[38;5;124m'\u001b[39m] \n",
      "\u001b[0;31mValueError\u001b[0m: dictionary update sequence element #0 has length 8; 2 is required"
     ]
    }
   ],
   "source": [
    "# # Save data as dictionary\n",
    "# twitter_user_details_dict = dict(twitter_user_details.data)\n",
    "\n",
    "# # Extract \"data\" value from dictionary\n",
    "# twitter_user_details_data = twitter_user_details_dict['data'] \n",
    "\n",
    "# # Transform to pandas Dataframe\n",
    "# df = pd.json_normalize(twitter_user_details_data) "
   ]
  },
  {
   "cell_type": "code",
   "execution_count": 17,
   "id": "e203506f",
   "metadata": {},
   "outputs": [
    {
     "ename": "NameError",
     "evalue": "name 'user_fields' is not defined",
     "output_type": "error",
     "traceback": [
      "\u001b[0;31m---------------------------------------------------------------------------\u001b[0m",
      "\u001b[0;31mNameError\u001b[0m                                 Traceback (most recent call last)",
      "Input \u001b[0;32mIn [17]\u001b[0m, in \u001b[0;36m<cell line: 5>\u001b[0;34m()\u001b[0m\n\u001b[1;32m      2\u001b[0m twitter_user_details_lst \u001b[38;5;241m=\u001b[39m []\n\u001b[1;32m      4\u001b[0m \u001b[38;5;66;03m# iterate over each tweet and corresponding user details\u001b[39;00m\n\u001b[0;32m----> 5\u001b[0m \u001b[38;5;28;01mfor\u001b[39;00m user, user_fields \u001b[38;5;129;01min\u001b[39;00m \u001b[38;5;28mzip\u001b[39m(twitter_user_details\u001b[38;5;241m.\u001b[39mdata, twitter_user_details\u001b[38;5;241m.\u001b[39mincludes[\u001b[43muser_fields\u001b[49m]):\n\u001b[1;32m      6\u001b[0m     user_info \u001b[38;5;241m=\u001b[39m {\n\u001b[1;32m      7\u001b[0m         \u001b[38;5;124m'\u001b[39m\u001b[38;5;124muser_id\u001b[39m\u001b[38;5;124m'\u001b[39m: user\u001b[38;5;241m.\u001b[39muser_id,\n\u001b[1;32m      8\u001b[0m         \u001b[38;5;124m'\u001b[39m\u001b[38;5;124mname\u001b[39m\u001b[38;5;124m'\u001b[39m: user\u001b[38;5;241m.\u001b[39mname,\n\u001b[0;32m   (...)\u001b[0m\n\u001b[1;32m     14\u001b[0m         \u001b[38;5;124m\"\u001b[39m\u001b[38;5;124mverified\u001b[39m\u001b[38;5;124m\"\u001b[39m : user_fields\u001b[38;5;241m.\u001b[39mverified\n\u001b[1;32m     15\u001b[0m     }\n\u001b[1;32m     16\u001b[0m     twitter_user_details_lst\u001b[38;5;241m.\u001b[39mappend(user_info)\n",
      "\u001b[0;31mNameError\u001b[0m: name 'user_fields' is not defined"
     ]
    }
   ],
   "source": [
    "# # create a list of records\n",
    "# twitter_user_details_lst = []\n",
    "\n",
    "# # iterate over each tweet and corresponding user details\n",
    "# for user, user_fields in zip(twitter_user_details.data, twitter_user_details.includes[user_fields]):\n",
    "#     user_info = {\n",
    "#         'user_id': user.user_id,\n",
    "#         'name': user.name,\n",
    "#         'username': user.username,\n",
    "#         \"created_at\" : user_fields.created_at,\n",
    "#         \"location\" : user_fields.location,\n",
    "#         \"protected\" : user_fields.protected,\n",
    "#         \"public_metrics\" : user_fields.public_metrics,\n",
    "#         \"verified\" : user_fields.verified\n",
    "#     }\n",
    "#     twitter_user_details_lst.append(user_info)\n",
    "\n",
    "# # create dataframe from the extracted records\n",
    "# twitter_user_details_df = pd.DataFrame(twitter_user_details_lst)\n",
    "# # display the dataframe\n",
    "# twitter_user_details_df.head()"
   ]
  },
  {
   "cell_type": "code",
   "execution_count": null,
   "id": "58af6472-3950-4cf3-985a-8ffdbf8fa5ba",
   "metadata": {},
   "outputs": [],
   "source": [
    "for user in users.data:\n",
    "    print(user[\"id\"])\n",
    "    print(user[\"created_at\"])"
   ]
  },
  {
   "cell_type": "code",
   "execution_count": 15,
   "id": "28a223f4-a8c4-4a0c-8386-9fde52b285d3",
   "metadata": {},
   "outputs": [
    {
     "data": {
      "text/plain": [
       "'New York City / Worldwide'"
      ]
     },
     "execution_count": 15,
     "metadata": {},
     "output_type": "execute_result"
    }
   ],
   "source": [
    "twitter_user_details.data[0][\"location\"]"
   ]
  },
  {
   "cell_type": "code",
   "execution_count": 1,
   "id": "98e77f76-b4f2-4205-9769-44d249b83f8b",
   "metadata": {},
   "outputs": [
    {
     "ename": "NameError",
     "evalue": "name 'users' is not defined",
     "output_type": "error",
     "traceback": [
      "\u001b[0;31m---------------------------------------------------------------------------\u001b[0m",
      "\u001b[0;31mNameError\u001b[0m                                 Traceback (most recent call last)",
      "Input \u001b[0;32mIn [1]\u001b[0m, in \u001b[0;36m<cell line: 2>\u001b[0;34m()\u001b[0m\n\u001b[1;32m      1\u001b[0m \u001b[38;5;66;03m# Save data as dictionary\u001b[39;00m\n\u001b[0;32m----> 2\u001b[0m users_dict \u001b[38;5;241m=\u001b[39m \u001b[43musers\u001b[49m\u001b[38;5;241m.\u001b[39mjson() \n\u001b[1;32m      4\u001b[0m \u001b[38;5;66;03m# Extract \"data\" value from dictionary\u001b[39;00m\n\u001b[1;32m      5\u001b[0m users_data \u001b[38;5;241m=\u001b[39m users_dict[\u001b[38;5;124m'\u001b[39m\u001b[38;5;124mdata\u001b[39m\u001b[38;5;124m'\u001b[39m] \n",
      "\u001b[0;31mNameError\u001b[0m: name 'users' is not defined"
     ]
    }
   ],
   "source": [
    "# # Save data as dictionary\n",
    "# users_dict = users.json() \n",
    "\n",
    "# # Extract \"data\" value from dictionary\n",
    "# users_data = users_dict['data'] \n",
    "\n",
    "# # Transform to pandas Dataframe\n",
    "# df = pd.json_normalize(users_data) \n",
    "\n",
    "# df"
   ]
  },
  {
   "cell_type": "code",
   "execution_count": 38,
   "id": "065c176d-551b-464d-bba6-9366b16fc634",
   "metadata": {},
   "outputs": [
    {
     "name": "stderr",
     "output_type": "stream",
     "text": [
      "<ipython-input-38-1c7f32d9186a>:7: FutureWarning: The frame.append method is deprecated and will be removed from pandas in a future version. Use pandas.concat instead.\n",
      "  data_users = data_users.append( temp_data , ignore_index=True )\n",
      "<ipython-input-38-1c7f32d9186a>:7: FutureWarning: The frame.append method is deprecated and will be removed from pandas in a future version. Use pandas.concat instead.\n",
      "  data_users = data_users.append( temp_data , ignore_index=True )\n",
      "<ipython-input-38-1c7f32d9186a>:7: FutureWarning: The frame.append method is deprecated and will be removed from pandas in a future version. Use pandas.concat instead.\n",
      "  data_users = data_users.append( temp_data , ignore_index=True )\n"
     ]
    }
   ],
   "source": [
    "# # Create empty dataframe\n",
    "# data_users = pd.DataFrame()\n",
    "\n",
    "# # Iterate through users_group and append data to the data_users dataframe\n",
    "# for i in users.data:\n",
    "#   temp_data = pd.json_normalize( i.data ,  sep = \"_\")\n",
    "#   data_users = data_users.append( temp_data , ignore_index=True )"
   ]
  },
  {
   "cell_type": "code",
   "execution_count": 14,
   "id": "68b8f89e-d15c-4f05-a111-9c54aa8ed8a9",
   "metadata": {},
   "outputs": [
    {
     "ename": "NameError",
     "evalue": "name 'response' is not defined",
     "output_type": "error",
     "traceback": [
      "\u001b[0;31m---------------------------------------------------------------------------\u001b[0m",
      "\u001b[0;31mNameError\u001b[0m                                 Traceback (most recent call last)",
      "Input \u001b[0;32mIn [14]\u001b[0m, in \u001b[0;36m<cell line: 1>\u001b[0;34m()\u001b[0m\n\u001b[0;32m----> 1\u001b[0m df \u001b[38;5;241m=\u001b[39m pd\u001b[38;5;241m.\u001b[39mDataFrame(\u001b[43mresponse\u001b[49m[\u001b[38;5;124m'\u001b[39m\u001b[38;5;124musers\u001b[39m\u001b[38;5;124m'\u001b[39m])\n",
      "\u001b[0;31mNameError\u001b[0m: name 'response' is not defined"
     ]
    }
   ],
   "source": [
    "df = pd.DataFrame(response['users'])"
   ]
  },
  {
   "cell_type": "code",
   "execution_count": 51,
   "id": "9c6e94f7-7c26-40fc-8cab-7bdb00a96a9d",
   "metadata": {},
   "outputs": [
    {
     "name": "stdout",
     "output_type": "stream",
     "text": [
      "1551640435164061702\n",
      "Firefighters have managed to contain 10% of the blaze, officials say. https://t.co/yRdYAhx6co\n",
      "1551640001863159808\n",
      "BREAKING: Paul Sorvino, best known for starring in \"Goodfellas\" and \"Law &amp; Order,\" has passed away. He was 83. https://t.co/YRnNhktlij https://t.co/7duORP636e\n",
      "1551639937149272064\n",
      "17 states are now offering tax-free holidays for school supplies, cutting sales tax ahead of the start of school.\n",
      "\n",
      "Learn more: https://t.co/PIx6PAJQd9\n",
      "1551639716621164547\n",
      "As the heat hovering over much of the country continues, residents on the East Coast will soon have another extreme weather event to contend with: severe storms. https://t.co/DMHY31puar\n",
      "1551634902977839109\n",
      "Family Dollar shoppers should check their medicine cabinets and bathrooms for any recently recalled products. https://t.co/P8EGjd1uTx\n",
      "1551632233345286145\n",
      "NEW: The Georgia DA leading Fulton County's 2020 election probe has been barred from investigating one of the state's 16 alleged \"fake electors\" due to a conflict of interest. https://t.co/bDZ5xLpFqj\n",
      "1551628367652438017\n",
      "Despite some glimmers of hope, wildlife officials said that manatees continue to face dwindling food options and many survivors have been severely weakened by malnutrition. https://t.co/2n4avVHmPb\n",
      "1551624834689503232\n",
      "Pres. Biden's COVID-19 symptoms are \"almost completely resolved,\" his physician says. https://t.co/6dpS2mT5oP\n",
      "1551624426969604097\n",
      "Former GOP Congressman Steve Buyer, who represented Indiana from 1993-2011, was arrested Monday on insider trading charges. https://t.co/eb6i30BIrd\n",
      "1551619715864281088\n",
      "BREAKING: Officials update on report of shots fired at Dallas airport:\n",
      "\n",
      "- Woman began firing handgun; unclear where she was aiming.\n",
      "- Officer engaged suspect, who has been hospitalized. \n",
      "- No one besides suspect was injured.\n",
      "- Not an active situation.\n",
      "\n",
      "https://t.co/7SgVTIE0iy https://t.co/RkhnaQZHpl\n"
     ]
    }
   ],
   "source": [
    "# Get User's Tweets\n",
    "\n",
    "# This endpoint/method returns Tweets composed by a single user, specified by\n",
    "# the requested user ID\n",
    "\n",
    "user_id = 28785486\n",
    "\n",
    "response = client.get_users_tweets(user_id)\n",
    "\n",
    "# By default, only the ID and text fields of each Tweet will be returned\n",
    "for tweet in response.data:\n",
    "    print(tweet.id)\n",
    "    print(tweet.text)\n",
    "\n",
    "# By default, the 10 most recent Tweets will be returned\n",
    "# You can retrieve up to 100 Tweets by specifying max_results\n",
    "response = client.get_users_tweets(user_id, max_results=100)"
   ]
  },
  {
   "cell_type": "code",
   "execution_count": 13,
   "id": "e5ed298a",
   "metadata": {},
   "outputs": [],
   "source": [
    "# search_words = \"Joe Biden\" # This will be changed to Donald Trump when we retrieve tweets related to him.\n",
    "# date_since = \"2020-10-27\"\n",
    "# tweets = tw.Cursor(api.search_tweets, q=search_words, lang=\"en\").items(10)\n",
    "# tweets"
   ]
  },
  {
   "cell_type": "code",
   "execution_count": 14,
   "id": "b0248ef1",
   "metadata": {},
   "outputs": [],
   "source": [
    "# tweet_details = [[tweet.geo, tweet.text, tweet.user.screen_name, tweet.user.location] for tweet in tweets]\n",
    "# tweet_df = pd.DataFrame(data=tweet_details, columns=[\"geo\",\"text\",\"user\",\"location\"])\n",
    "# tweet_df.head()"
   ]
  },
  {
   "cell_type": "code",
   "execution_count": null,
   "id": "98e3e653",
   "metadata": {},
   "outputs": [],
   "source": [
    "# df.to_csv('data.csv')"
   ]
  }
 ],
 "metadata": {
  "kernelspec": {
   "display_name": "Python 3 (ipykernel)",
   "language": "python",
   "name": "python3"
  },
  "language_info": {
   "codemirror_mode": {
    "name": "ipython",
    "version": 3
   },
   "file_extension": ".py",
   "mimetype": "text/x-python",
   "name": "python",
   "nbconvert_exporter": "python",
   "pygments_lexer": "ipython3",
   "version": "3.9.12"
  }
 },
 "nbformat": 4,
 "nbformat_minor": 5
}
