{
 "cells": [
  {
   "cell_type": "code",
   "execution_count": 1,
   "id": "2a1dff73",
   "metadata": {},
   "outputs": [],
   "source": [
    "# collect data from Twitter using Twitter API"
   ]
  },
  {
   "cell_type": "code",
   "execution_count": 3,
   "id": "464364d9",
   "metadata": {},
   "outputs": [
    {
     "name": "stdout",
     "output_type": "stream",
     "text": [
      "4.10.0\n"
     ]
    }
   ],
   "source": [
    "# !pip install tweepy\n",
    "import tweepy as tw\n",
    "print(tw.__version__)"
   ]
  },
  {
   "cell_type": "code",
   "execution_count": 3,
   "id": "69c34305",
   "metadata": {},
   "outputs": [],
   "source": [
    "# import os\n",
    "\n",
    "# consumer_key = os.environ.get(\"CONSUMER_KEY\")\n",
    "\n",
    "# consumer_secret = os.environ.get(\"CONSUMER_SECRET\")"
   ]
  },
  {
   "cell_type": "code",
   "execution_count": 12,
   "id": "a30af8e9",
   "metadata": {},
   "outputs": [],
   "source": [
    "# # assign the values accordingly\n",
    "# consumer_key = \"\"\n",
    "# consumer_secret = \"\"\n",
    "# access_token = \"\"\n",
    "# access_token_secret = \"\"\n",
    "  \n",
    "# # authorization of consumer key and consumer secret\n",
    "# auth = tw.OAuthHandler(consumer_key, consumer_secret)\n",
    "  \n",
    "# # set access to user's access key and access secret \n",
    "# auth.set_access_token(access_token, access_token_secret)\n",
    "  \n",
    "# # calling the api \n",
    "# api = tw.API(auth)\n",
    "  \n",
    "# if api.verify_credentials() == False:\n",
    "#     print(\"The user credentials are invalid.\")\n",
    "# else:\n",
    "#     print(\"The user credentials are valid.\")"
   ]
  },
  {
   "cell_type": "code",
   "execution_count": 7,
   "id": "1f72abc2-c2e3-4fe2-aa70-9e82096233d8",
   "metadata": {},
   "outputs": [],
   "source": [
    "bearer_token = \"\"  # BEARER_TOKEN\n",
    "client = tw.Client(bearer_token)"
   ]
  },
  {
   "cell_type": "code",
   "execution_count": 38,
   "id": "77e2f30a-6e0b-432a-8a91-50141d97022a",
   "metadata": {},
   "outputs": [
    {
     "data": {
      "text/plain": [
       "Response(data=[<User id=28785486 name=ABC News username=ABC>], includes={}, errors=[], meta={})"
      ]
     },
     "execution_count": 38,
     "metadata": {},
     "output_type": "execute_result"
    }
   ],
   "source": [
    "users = client.get_users(usernames=\"ABC\", user_fields=[\"created_at\",\"location\",\"protected\",\"public_metrics\",\"verified\"])\n",
    "users"
   ]
  },
  {
   "cell_type": "code",
   "execution_count": 50,
   "id": "327235fa-9ab2-459d-909d-8ddf6b148cca",
   "metadata": {},
   "outputs": [
    {
     "data": {
      "text/plain": [
       "dict_keys([])"
      ]
     },
     "execution_count": 50,
     "metadata": {},
     "output_type": "execute_result"
    }
   ],
   "source": [
    "users.includes.keys()"
   ]
  },
  {
   "cell_type": "code",
   "execution_count": 51,
   "id": "9c6e94f7-7c26-40fc-8cab-7bdb00a96a9d",
   "metadata": {},
   "outputs": [
    {
     "name": "stdout",
     "output_type": "stream",
     "text": [
      "1551640435164061702\n",
      "Firefighters have managed to contain 10% of the blaze, officials say. https://t.co/yRdYAhx6co\n",
      "1551640001863159808\n",
      "BREAKING: Paul Sorvino, best known for starring in \"Goodfellas\" and \"Law &amp; Order,\" has passed away. He was 83. https://t.co/YRnNhktlij https://t.co/7duORP636e\n",
      "1551639937149272064\n",
      "17 states are now offering tax-free holidays for school supplies, cutting sales tax ahead of the start of school.\n",
      "\n",
      "Learn more: https://t.co/PIx6PAJQd9\n",
      "1551639716621164547\n",
      "As the heat hovering over much of the country continues, residents on the East Coast will soon have another extreme weather event to contend with: severe storms. https://t.co/DMHY31puar\n",
      "1551634902977839109\n",
      "Family Dollar shoppers should check their medicine cabinets and bathrooms for any recently recalled products. https://t.co/P8EGjd1uTx\n",
      "1551632233345286145\n",
      "NEW: The Georgia DA leading Fulton County's 2020 election probe has been barred from investigating one of the state's 16 alleged \"fake electors\" due to a conflict of interest. https://t.co/bDZ5xLpFqj\n",
      "1551628367652438017\n",
      "Despite some glimmers of hope, wildlife officials said that manatees continue to face dwindling food options and many survivors have been severely weakened by malnutrition. https://t.co/2n4avVHmPb\n",
      "1551624834689503232\n",
      "Pres. Biden's COVID-19 symptoms are \"almost completely resolved,\" his physician says. https://t.co/6dpS2mT5oP\n",
      "1551624426969604097\n",
      "Former GOP Congressman Steve Buyer, who represented Indiana from 1993-2011, was arrested Monday on insider trading charges. https://t.co/eb6i30BIrd\n",
      "1551619715864281088\n",
      "BREAKING: Officials update on report of shots fired at Dallas airport:\n",
      "\n",
      "- Woman began firing handgun; unclear where she was aiming.\n",
      "- Officer engaged suspect, who has been hospitalized. \n",
      "- No one besides suspect was injured.\n",
      "- Not an active situation.\n",
      "\n",
      "https://t.co/7SgVTIE0iy https://t.co/RkhnaQZHpl\n"
     ]
    }
   ],
   "source": [
    "# Get User's Tweets\n",
    "\n",
    "# This endpoint/method returns Tweets composed by a single user, specified by\n",
    "# the requested user ID\n",
    "\n",
    "user_id = 28785486\n",
    "\n",
    "response = client.get_users_tweets(user_id)\n",
    "\n",
    "# By default, only the ID and text fields of each Tweet will be returned\n",
    "for tweet in response.data:\n",
    "    print(tweet.id)\n",
    "    print(tweet.text)\n",
    "\n",
    "# By default, the 10 most recent Tweets will be returned\n",
    "# You can retrieve up to 100 Tweets by specifying max_results\n",
    "response = client.get_users_tweets(user_id, max_results=100)"
   ]
  },
  {
   "cell_type": "raw",
   "id": "587199e1-f85b-429f-a0e5-d37b955b0127",
   "metadata": {},
   "source": [
    "user = api.get_user('katherineskc')\n",
    "print(user.name)\n",
    "print(user.description)\n",
    "print(user.location)"
   ]
  },
  {
   "cell_type": "code",
   "execution_count": 13,
   "id": "e5ed298a",
   "metadata": {},
   "outputs": [],
   "source": [
    "# search_words = \"Joe Biden\" # This will be changed to Donald Trump when we retrieve tweets related to him.\n",
    "# date_since = \"2020-10-27\"\n",
    "# tweets = tw.Cursor(api.search_tweets, q=search_words, lang=\"en\").items(10)\n",
    "# tweets"
   ]
  },
  {
   "cell_type": "code",
   "execution_count": 14,
   "id": "b0248ef1",
   "metadata": {},
   "outputs": [],
   "source": [
    "# tweet_details = [[tweet.geo, tweet.text, tweet.user.screen_name, tweet.user.location] for tweet in tweets]\n",
    "# tweet_df = pd.DataFrame(data=tweet_details, columns=[\"geo\",\"text\",\"user\",\"location\"])\n",
    "# tweet_df.head()"
   ]
  },
  {
   "cell_type": "code",
   "execution_count": null,
   "id": "98e3e653",
   "metadata": {},
   "outputs": [],
   "source": []
  }
 ],
 "metadata": {
  "kernelspec": {
   "display_name": "Python 3 (ipykernel)",
   "language": "python",
   "name": "python3"
  },
  "language_info": {
   "codemirror_mode": {
    "name": "ipython",
    "version": 3
   },
   "file_extension": ".py",
   "mimetype": "text/x-python",
   "name": "python",
   "nbconvert_exporter": "python",
   "pygments_lexer": "ipython3",
   "version": "3.9.12"
  }
 },
 "nbformat": 4,
 "nbformat_minor": 5
}
