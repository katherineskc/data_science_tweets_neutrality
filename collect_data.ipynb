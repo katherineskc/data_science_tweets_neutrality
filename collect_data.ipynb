{
 "cells": [
  {
   "cell_type": "markdown",
   "id": "8fd492f4",
   "metadata": {},
   "source": [
    "# collect data from Twitter using Twitter API"
   ]
  },
  {
   "cell_type": "markdown",
   "id": "bbab4919",
   "metadata": {},
   "source": [
    "## import packages and configure twitter api"
   ]
  },
  {
   "cell_type": "code",
   "execution_count": 2,
   "id": "464364d9",
   "metadata": {},
   "outputs": [
    {
     "name": "stdout",
     "output_type": "stream",
     "text": [
      "4.10.0\n"
     ]
    }
   ],
   "source": [
    "# !pip install tweepy\n",
    "import tweepy as tw\n",
    "print(tw.__version__)"
   ]
  },
  {
   "cell_type": "code",
   "execution_count": 3,
   "id": "ebaf2ecf-826f-49df-8b82-12d3d5ba9027",
   "metadata": {},
   "outputs": [
    {
     "name": "stdout",
     "output_type": "stream",
     "text": [
      "2.28.1\n"
     ]
    }
   ],
   "source": [
    "# !pip install pandas\n",
    "import pandas as pd\n",
    "import json\n",
    "import time\n",
    "import csv\n",
    "import requests\n",
    "print(requests.__version__)"
   ]
  },
  {
   "cell_type": "code",
   "execution_count": 4,
   "id": "a30af8e9",
   "metadata": {},
   "outputs": [],
   "source": [
    "# import keys from a .gitignore file\n",
    "\n",
    "import keys"
   ]
  },
  {
   "cell_type": "code",
   "execution_count": 5,
   "id": "8a78d6d1-3c08-48f1-8262-ac17733bc4eb",
   "metadata": {},
   "outputs": [],
   "source": [
    "# assign the values accordingly\n",
    "\n",
    "client = tw.Client(\n",
    "    wait_on_rate_limit = True,\n",
    "    consumer_key = keys.consumer_key,\n",
    "    consumer_secret = keys.consumer_secret,\n",
    "    access_token = keys.access_token,\n",
    "    access_token_secret = keys.access_token_secret,\n",
    "    bearer_token = keys.bearer_token,\n",
    ")"
   ]
  },
  {
   "cell_type": "code",
   "execution_count": 6,
   "id": "1f72abc2-c2e3-4fe2-aa70-9e82096233d8",
   "metadata": {},
   "outputs": [
    {
     "data": {
      "text/plain": [
       "<tweepy.client.Client at 0x7fcdb1c448e0>"
      ]
     },
     "execution_count": 6,
     "metadata": {},
     "output_type": "execute_result"
    }
   ],
   "source": [
    "# client = tw.Client(bearer_token)\n",
    "client"
   ]
  },
  {
   "cell_type": "markdown",
   "id": "635bfa6f",
   "metadata": {},
   "source": [
    "## get the list of news media twitter username"
   ]
  },
  {
   "cell_type": "code",
   "execution_count": 7,
   "id": "d82c6913-26ff-40c2-a227-0731b8e18ade",
   "metadata": {},
   "outputs": [
    {
     "data": {
      "text/html": [
       "<div>\n",
       "<style scoped>\n",
       "    .dataframe tbody tr th:only-of-type {\n",
       "        vertical-align: middle;\n",
       "    }\n",
       "\n",
       "    .dataframe tbody tr th {\n",
       "        vertical-align: top;\n",
       "    }\n",
       "\n",
       "    .dataframe thead th {\n",
       "        text-align: right;\n",
       "    }\n",
       "</style>\n",
       "<table border=\"1\" class=\"dataframe\">\n",
       "  <thead>\n",
       "    <tr style=\"text-align: right;\">\n",
       "      <th></th>\n",
       "      <th>news_media</th>\n",
       "      <th>twitter_username</th>\n",
       "      <th>us_or_foreign</th>\n",
       "      <th>general_or_political</th>\n",
       "    </tr>\n",
       "  </thead>\n",
       "  <tbody>\n",
       "    <tr>\n",
       "      <th>0</th>\n",
       "      <td>ABC News</td>\n",
       "      <td>ABC</td>\n",
       "      <td>US</td>\n",
       "      <td>General</td>\n",
       "    </tr>\n",
       "    <tr>\n",
       "      <th>1</th>\n",
       "      <td>ABC News</td>\n",
       "      <td>ABCPolitics</td>\n",
       "      <td>US</td>\n",
       "      <td>Political</td>\n",
       "    </tr>\n",
       "    <tr>\n",
       "      <th>2</th>\n",
       "      <td>ABC News</td>\n",
       "      <td>ABCNewsLive</td>\n",
       "      <td>US</td>\n",
       "      <td>General</td>\n",
       "    </tr>\n",
       "    <tr>\n",
       "      <th>3</th>\n",
       "      <td>BBC News</td>\n",
       "      <td>BBCWorld</td>\n",
       "      <td>Foreign</td>\n",
       "      <td>General</td>\n",
       "    </tr>\n",
       "    <tr>\n",
       "      <th>4</th>\n",
       "      <td>BBC News</td>\n",
       "      <td>BBCBreaking</td>\n",
       "      <td>Foreign</td>\n",
       "      <td>General</td>\n",
       "    </tr>\n",
       "    <tr>\n",
       "      <th>5</th>\n",
       "      <td>BBC News</td>\n",
       "      <td>BBCNews</td>\n",
       "      <td>Foreign</td>\n",
       "      <td>General</td>\n",
       "    </tr>\n",
       "    <tr>\n",
       "      <th>6</th>\n",
       "      <td>BBC News</td>\n",
       "      <td>BBCNorthAmerica</td>\n",
       "      <td>Foreign</td>\n",
       "      <td>General</td>\n",
       "    </tr>\n",
       "    <tr>\n",
       "      <th>7</th>\n",
       "      <td>CBS News</td>\n",
       "      <td>CBSNews</td>\n",
       "      <td>US</td>\n",
       "      <td>General</td>\n",
       "    </tr>\n",
       "    <tr>\n",
       "      <th>8</th>\n",
       "      <td>CBS News</td>\n",
       "      <td>CBSPolitics</td>\n",
       "      <td>US</td>\n",
       "      <td>Political</td>\n",
       "    </tr>\n",
       "    <tr>\n",
       "      <th>9</th>\n",
       "      <td>CBS News</td>\n",
       "      <td>CBSNewsPoll</td>\n",
       "      <td>US</td>\n",
       "      <td>Political</td>\n",
       "    </tr>\n",
       "    <tr>\n",
       "      <th>10</th>\n",
       "      <td>CNN</td>\n",
       "      <td>CNN</td>\n",
       "      <td>US</td>\n",
       "      <td>General</td>\n",
       "    </tr>\n",
       "    <tr>\n",
       "      <th>11</th>\n",
       "      <td>CNN</td>\n",
       "      <td>cnnbrk</td>\n",
       "      <td>US</td>\n",
       "      <td>General</td>\n",
       "    </tr>\n",
       "    <tr>\n",
       "      <th>12</th>\n",
       "      <td>CNN</td>\n",
       "      <td>CNNPolitics</td>\n",
       "      <td>US</td>\n",
       "      <td>Political</td>\n",
       "    </tr>\n",
       "    <tr>\n",
       "      <th>13</th>\n",
       "      <td>Fox News</td>\n",
       "      <td>FoxNews</td>\n",
       "      <td>US</td>\n",
       "      <td>General</td>\n",
       "    </tr>\n",
       "    <tr>\n",
       "      <th>14</th>\n",
       "      <td>Fox News</td>\n",
       "      <td>foxnewspolitics</td>\n",
       "      <td>US</td>\n",
       "      <td>Political</td>\n",
       "    </tr>\n",
       "    <tr>\n",
       "      <th>15</th>\n",
       "      <td>Euro news</td>\n",
       "      <td>euronews</td>\n",
       "      <td>Foreign</td>\n",
       "      <td>General</td>\n",
       "    </tr>\n",
       "    <tr>\n",
       "      <th>16</th>\n",
       "      <td>MSNBC</td>\n",
       "      <td>MSNBC</td>\n",
       "      <td>US</td>\n",
       "      <td>General</td>\n",
       "    </tr>\n",
       "    <tr>\n",
       "      <th>17</th>\n",
       "      <td>NBC News</td>\n",
       "      <td>NBCNews</td>\n",
       "      <td>US</td>\n",
       "      <td>General</td>\n",
       "    </tr>\n",
       "    <tr>\n",
       "      <th>18</th>\n",
       "      <td>NBC News</td>\n",
       "      <td>NBCPolitics</td>\n",
       "      <td>US</td>\n",
       "      <td>Political</td>\n",
       "    </tr>\n",
       "    <tr>\n",
       "      <th>19</th>\n",
       "      <td>New York Times</td>\n",
       "      <td>nytimes</td>\n",
       "      <td>US</td>\n",
       "      <td>General</td>\n",
       "    </tr>\n",
       "    <tr>\n",
       "      <th>20</th>\n",
       "      <td>New York Times</td>\n",
       "      <td>nytpolitics</td>\n",
       "      <td>US</td>\n",
       "      <td>Political</td>\n",
       "    </tr>\n",
       "    <tr>\n",
       "      <th>21</th>\n",
       "      <td>NPR</td>\n",
       "      <td>NPR</td>\n",
       "      <td>US</td>\n",
       "      <td>General</td>\n",
       "    </tr>\n",
       "    <tr>\n",
       "      <th>22</th>\n",
       "      <td>NPR</td>\n",
       "      <td>nprpolitics</td>\n",
       "      <td>US</td>\n",
       "      <td>Political</td>\n",
       "    </tr>\n",
       "    <tr>\n",
       "      <th>23</th>\n",
       "      <td>Sky news</td>\n",
       "      <td>SkyNews</td>\n",
       "      <td>Foreign</td>\n",
       "      <td>General</td>\n",
       "    </tr>\n",
       "    <tr>\n",
       "      <th>24</th>\n",
       "      <td>USA Today</td>\n",
       "      <td>USATODAY</td>\n",
       "      <td>US</td>\n",
       "      <td>General</td>\n",
       "    </tr>\n",
       "    <tr>\n",
       "      <th>25</th>\n",
       "      <td>USA Today</td>\n",
       "      <td>usatodayDC</td>\n",
       "      <td>US</td>\n",
       "      <td>General</td>\n",
       "    </tr>\n",
       "    <tr>\n",
       "      <th>26</th>\n",
       "      <td>Wall Street Journal</td>\n",
       "      <td>WSJ</td>\n",
       "      <td>US</td>\n",
       "      <td>General</td>\n",
       "    </tr>\n",
       "    <tr>\n",
       "      <th>27</th>\n",
       "      <td>Wall Street Journal</td>\n",
       "      <td>WSJusnews</td>\n",
       "      <td>US</td>\n",
       "      <td>General</td>\n",
       "    </tr>\n",
       "    <tr>\n",
       "      <th>28</th>\n",
       "      <td>Washington Post</td>\n",
       "      <td>washingtonpost</td>\n",
       "      <td>US</td>\n",
       "      <td>General</td>\n",
       "    </tr>\n",
       "  </tbody>\n",
       "</table>\n",
       "</div>"
      ],
      "text/plain": [
       "             news_media twitter_username us_or_foreign general_or_political\n",
       "0              ABC News              ABC            US              General\n",
       "1              ABC News      ABCPolitics            US            Political\n",
       "2              ABC News      ABCNewsLive            US              General\n",
       "3              BBC News         BBCWorld       Foreign              General\n",
       "4              BBC News      BBCBreaking       Foreign              General\n",
       "5              BBC News          BBCNews       Foreign              General\n",
       "6              BBC News  BBCNorthAmerica       Foreign              General\n",
       "7              CBS News          CBSNews            US              General\n",
       "8              CBS News      CBSPolitics            US            Political\n",
       "9              CBS News      CBSNewsPoll            US            Political\n",
       "10                  CNN              CNN            US              General\n",
       "11                  CNN           cnnbrk            US              General\n",
       "12                  CNN      CNNPolitics            US            Political\n",
       "13             Fox News          FoxNews            US              General\n",
       "14             Fox News  foxnewspolitics            US            Political\n",
       "15            Euro news         euronews       Foreign              General\n",
       "16                MSNBC            MSNBC            US              General\n",
       "17             NBC News          NBCNews            US              General\n",
       "18             NBC News      NBCPolitics            US            Political\n",
       "19       New York Times          nytimes            US              General\n",
       "20       New York Times      nytpolitics            US            Political\n",
       "21                  NPR              NPR            US              General\n",
       "22                  NPR      nprpolitics            US            Political\n",
       "23             Sky news          SkyNews       Foreign              General\n",
       "24            USA Today         USATODAY            US              General\n",
       "25            USA Today       usatodayDC            US              General\n",
       "26  Wall Street Journal              WSJ            US              General\n",
       "27  Wall Street Journal        WSJusnews            US              General\n",
       "28      Washington Post   washingtonpost            US              General"
      ]
     },
     "execution_count": 7,
     "metadata": {},
     "output_type": "execute_result"
    }
   ],
   "source": [
    "# read a csv file with selected news media's twitter username \n",
    "\n",
    "news_media_basic_data = pd.read_csv (r'/Users/katherina/data_science_tweets_neutrality/news_media_twitter_username.csv')\n",
    "news_media_basic_data"
   ]
  },
  {
   "cell_type": "code",
   "execution_count": 8,
   "id": "8c0452fe",
   "metadata": {},
   "outputs": [
    {
     "data": {
      "text/plain": [
       "['ABC', 'ABCPolitics', 'ABCNewsLive']"
      ]
     },
     "execution_count": 8,
     "metadata": {},
     "output_type": "execute_result"
    }
   ],
   "source": [
    "news_media_twitter_username_list = news_media_basic_data['twitter_username'].tolist()\n",
    "news_media_twitter_username_list\n",
    "\n",
    "news_media_twitter_username_list = [\"ABC\",\"ABCPolitics\",\"ABCNewsLive\"]\n",
    "news_media_twitter_username_list"
   ]
  },
  {
   "cell_type": "markdown",
   "id": "8e87851a",
   "metadata": {},
   "source": [
    "## Call Twitter API v2"
   ]
  },
  {
   "cell_type": "markdown",
   "id": "267c97d0",
   "metadata": {},
   "source": [
    "### get user details"
   ]
  },
  {
   "cell_type": "code",
   "execution_count": 9,
   "id": "77e2f30a-6e0b-432a-8a91-50141d97022a",
   "metadata": {},
   "outputs": [
    {
     "data": {
      "text/plain": [
       "Response(data=[<User id=28785486 name=ABC News username=ABC>, <User id=16815644 name=ABC News Politics username=ABCPolitics>, <User id=384438102 name=ABC News Live username=ABCNewsLive>], includes={}, errors=[], meta={})"
      ]
     },
     "execution_count": 9,
     "metadata": {},
     "output_type": "execute_result"
    }
   ],
   "source": [
    "# call twitter API v2 to get user id and other user information for the user in the list\n",
    "\n",
    "def get_users_details(usernames):\n",
    "        users_details = client.get_users(usernames=usernames, user_fields=[\"created_at\",\"location\",\"protected\",\"public_metrics\",\"verified\"])\n",
    "        return users_details\n",
    "\n",
    "twitter_user_details = get_users_details(news_media_twitter_username_list)\n",
    "twitter_user_details"
   ]
  },
  {
   "cell_type": "code",
   "execution_count": 40,
   "id": "26bca777",
   "metadata": {},
   "outputs": [
    {
     "data": {
      "text/html": [
       "<div>\n",
       "<style scoped>\n",
       "    .dataframe tbody tr th:only-of-type {\n",
       "        vertical-align: middle;\n",
       "    }\n",
       "\n",
       "    .dataframe tbody tr th {\n",
       "        vertical-align: top;\n",
       "    }\n",
       "\n",
       "    .dataframe thead th {\n",
       "        text-align: right;\n",
       "    }\n",
       "</style>\n",
       "<table border=\"1\" class=\"dataframe\">\n",
       "  <thead>\n",
       "    <tr style=\"text-align: right;\">\n",
       "      <th></th>\n",
       "      <th>user_id</th>\n",
       "      <th>user_name</th>\n",
       "      <th>user_username</th>\n",
       "      <th>user_created_at</th>\n",
       "      <th>user_location</th>\n",
       "      <th>user_protected</th>\n",
       "      <th>user_followers_count</th>\n",
       "      <th>user_following_count</th>\n",
       "      <th>user_tweet_count</th>\n",
       "      <th>user_listed_count</th>\n",
       "      <th>user_verified</th>\n",
       "    </tr>\n",
       "  </thead>\n",
       "  <tbody>\n",
       "    <tr>\n",
       "      <th>0</th>\n",
       "      <td>28785486</td>\n",
       "      <td>ABC News</td>\n",
       "      <td>ABC</td>\n",
       "      <td>2009-04-04 12:40:32+00:00</td>\n",
       "      <td>New York City / Worldwide</td>\n",
       "      <td>False</td>\n",
       "      <td>17625912</td>\n",
       "      <td>487</td>\n",
       "      <td>392310</td>\n",
       "      <td>66027</td>\n",
       "      <td>True</td>\n",
       "    </tr>\n",
       "    <tr>\n",
       "      <th>1</th>\n",
       "      <td>16815644</td>\n",
       "      <td>ABC News Politics</td>\n",
       "      <td>ABCPolitics</td>\n",
       "      <td>2008-10-16 22:43:16+00:00</td>\n",
       "      <td>Washington, DC</td>\n",
       "      <td>False</td>\n",
       "      <td>1077940</td>\n",
       "      <td>474</td>\n",
       "      <td>192389</td>\n",
       "      <td>8485</td>\n",
       "      <td>True</td>\n",
       "    </tr>\n",
       "    <tr>\n",
       "      <th>2</th>\n",
       "      <td>384438102</td>\n",
       "      <td>ABC News Live</td>\n",
       "      <td>ABCNewsLive</td>\n",
       "      <td>2011-10-03 17:47:38+00:00</td>\n",
       "      <td>None</td>\n",
       "      <td>False</td>\n",
       "      <td>95749</td>\n",
       "      <td>223</td>\n",
       "      <td>36587</td>\n",
       "      <td>2235</td>\n",
       "      <td>True</td>\n",
       "    </tr>\n",
       "  </tbody>\n",
       "</table>\n",
       "</div>"
      ],
      "text/plain": [
       "     user_id          user_name user_username           user_created_at  \\\n",
       "0   28785486           ABC News           ABC 2009-04-04 12:40:32+00:00   \n",
       "1   16815644  ABC News Politics   ABCPolitics 2008-10-16 22:43:16+00:00   \n",
       "2  384438102      ABC News Live   ABCNewsLive 2011-10-03 17:47:38+00:00   \n",
       "\n",
       "               user_location  user_protected  user_followers_count  \\\n",
       "0  New York City / Worldwide           False              17625912   \n",
       "1             Washington, DC           False               1077940   \n",
       "2                       None           False                 95749   \n",
       "\n",
       "   user_following_count  user_tweet_count  user_listed_count  user_verified  \n",
       "0                   487            392310              66027           True  \n",
       "1                   474            192389               8485           True  \n",
       "2                   223             36587               2235           True  "
      ]
     },
     "execution_count": 40,
     "metadata": {},
     "output_type": "execute_result"
    }
   ],
   "source": [
    "# create a list of records\n",
    "twitter_user_details_lst = []\n",
    "\n",
    "# iterate over each tweet and corresponding user details\n",
    "for user in twitter_user_details.data:\n",
    "    user_info = {\n",
    "        'user_id': user.id,\n",
    "        'user_name': user.name,\n",
    "        'user_username': user.username,\n",
    "        \"user_created_at\" : user.created_at,\n",
    "        \"user_location\" : user.location,\n",
    "        \"user_protected\" : user.protected,\n",
    "        \"user_followers_count\" : user.public_metrics[\"followers_count\"],\n",
    "        \"user_following_count\" : user.public_metrics[\"following_count\"],\n",
    "        \"user_tweet_count\" : user.public_metrics[\"tweet_count\"],\n",
    "        \"user_listed_count\" : user.public_metrics[\"listed_count\"],\n",
    "        \"user_verified\" : user.verified\n",
    "    }\n",
    "    twitter_user_details_lst.append(user_info)\n",
    "\n",
    "# create dataframe from the extracted records\n",
    "twitter_user_details_df = pd.DataFrame(twitter_user_details_lst)\n",
    "# display the dataframe\n",
    "twitter_user_details_df"
   ]
  },
  {
   "cell_type": "code",
   "execution_count": 42,
   "id": "fb6c51a4",
   "metadata": {},
   "outputs": [],
   "source": [
    "twitter_user_details_df.to_csv (r'/Users/katherina/data_science_tweets_neutrality/twitter_user_details.csv', index = False, header=True)"
   ]
  },
  {
   "cell_type": "code",
   "execution_count": null,
   "id": "58af6472-3950-4cf3-985a-8ffdbf8fa5ba",
   "metadata": {},
   "outputs": [],
   "source": [
    "# for user in users.data:\n",
    "#     print(user[\"id\"])\n",
    "#     print(user[\"created_at\"])"
   ]
  },
  {
   "cell_type": "code",
   "execution_count": 33,
   "id": "28a223f4-a8c4-4a0c-8386-9fde52b285d3",
   "metadata": {},
   "outputs": [],
   "source": [
    "# twitter_user_details.data[0][\"location\"]"
   ]
  },
  {
   "cell_type": "code",
   "execution_count": 43,
   "id": "4e8fa2d3",
   "metadata": {},
   "outputs": [
    {
     "data": {
      "text/html": [
       "<div>\n",
       "<style scoped>\n",
       "    .dataframe tbody tr th:only-of-type {\n",
       "        vertical-align: middle;\n",
       "    }\n",
       "\n",
       "    .dataframe tbody tr th {\n",
       "        vertical-align: top;\n",
       "    }\n",
       "\n",
       "    .dataframe thead th {\n",
       "        text-align: right;\n",
       "    }\n",
       "</style>\n",
       "<table border=\"1\" class=\"dataframe\">\n",
       "  <thead>\n",
       "    <tr style=\"text-align: right;\">\n",
       "      <th></th>\n",
       "      <th>user_id</th>\n",
       "      <th>user_name</th>\n",
       "      <th>user_username</th>\n",
       "      <th>user_created_at</th>\n",
       "      <th>user_location</th>\n",
       "      <th>user_protected</th>\n",
       "      <th>user_followers_count</th>\n",
       "      <th>user_following_count</th>\n",
       "      <th>user_tweet_count</th>\n",
       "      <th>user_listed_count</th>\n",
       "      <th>user_verified</th>\n",
       "    </tr>\n",
       "  </thead>\n",
       "  <tbody>\n",
       "    <tr>\n",
       "      <th>0</th>\n",
       "      <td>28785486</td>\n",
       "      <td>ABC News</td>\n",
       "      <td>ABC</td>\n",
       "      <td>2009-04-04 12:40:32+00:00</td>\n",
       "      <td>New York City / Worldwide</td>\n",
       "      <td>False</td>\n",
       "      <td>17625912</td>\n",
       "      <td>487</td>\n",
       "      <td>392310</td>\n",
       "      <td>66027</td>\n",
       "      <td>True</td>\n",
       "    </tr>\n",
       "    <tr>\n",
       "      <th>1</th>\n",
       "      <td>16815644</td>\n",
       "      <td>ABC News Politics</td>\n",
       "      <td>ABCPolitics</td>\n",
       "      <td>2008-10-16 22:43:16+00:00</td>\n",
       "      <td>Washington, DC</td>\n",
       "      <td>False</td>\n",
       "      <td>1077940</td>\n",
       "      <td>474</td>\n",
       "      <td>192389</td>\n",
       "      <td>8485</td>\n",
       "      <td>True</td>\n",
       "    </tr>\n",
       "    <tr>\n",
       "      <th>2</th>\n",
       "      <td>384438102</td>\n",
       "      <td>ABC News Live</td>\n",
       "      <td>ABCNewsLive</td>\n",
       "      <td>2011-10-03 17:47:38+00:00</td>\n",
       "      <td>NaN</td>\n",
       "      <td>False</td>\n",
       "      <td>95749</td>\n",
       "      <td>223</td>\n",
       "      <td>36587</td>\n",
       "      <td>2235</td>\n",
       "      <td>True</td>\n",
       "    </tr>\n",
       "  </tbody>\n",
       "</table>\n",
       "</div>"
      ],
      "text/plain": [
       "     user_id          user_name user_username            user_created_at  \\\n",
       "0   28785486           ABC News           ABC  2009-04-04 12:40:32+00:00   \n",
       "1   16815644  ABC News Politics   ABCPolitics  2008-10-16 22:43:16+00:00   \n",
       "2  384438102      ABC News Live   ABCNewsLive  2011-10-03 17:47:38+00:00   \n",
       "\n",
       "               user_location  user_protected  user_followers_count  \\\n",
       "0  New York City / Worldwide           False              17625912   \n",
       "1             Washington, DC           False               1077940   \n",
       "2                        NaN           False                 95749   \n",
       "\n",
       "   user_following_count  user_tweet_count  user_listed_count  user_verified  \n",
       "0                   487            392310              66027           True  \n",
       "1                   474            192389               8485           True  \n",
       "2                   223             36587               2235           True  "
      ]
     },
     "execution_count": 43,
     "metadata": {},
     "output_type": "execute_result"
    }
   ],
   "source": [
    "twitter_user_details_data = pd.read_csv (r'/Users/katherina/data_science_tweets_neutrality/twitter_user_details.csv')\n",
    "twitter_user_details_data"
   ]
  },
  {
   "cell_type": "code",
   "execution_count": 44,
   "id": "eb65d283",
   "metadata": {},
   "outputs": [
    {
     "data": {
      "text/plain": [
       "[28785486, 16815644, 384438102]"
      ]
     },
     "execution_count": 44,
     "metadata": {},
     "output_type": "execute_result"
    }
   ],
   "source": [
    "user_id_list = twitter_user_details_data[\"user_id\"].tolist()\n",
    "user_id_list"
   ]
  },
  {
   "cell_type": "code",
   "execution_count": 59,
   "id": "9c6e94f7-7c26-40fc-8cab-7bdb00a96a9d",
   "metadata": {},
   "outputs": [
    {
     "data": {
      "text/plain": [
       "Response(data=[<Tweet id=1542653639482920961 text='The Supreme Court announced it will hear a case this fall that could upend state election laws across the country. https://t.co/sFiMDyVJdD'>, <Tweet id=1542647056254345221 text='The FDA says it has advised COVID-19 vaccine companies to produce an updated vaccine for this fall, an aim to give people broader and stronger immunity in an upcoming booster campaign ahead of winter.  https://t.co/M6C3HbmiGN'>, <Tweet id=1542641335378874368 text='Tear gas or pepper spray was used on patrons at a popular nightclub in South Africa when more than a dozen teenagers mysteriously died there, an eyewitness told @ABC News. https://t.co/HOQnzVFEC2'>, <Tweet id=1542634836518735872 text='OFF YOU GO: Alligator released into the river by a brave local police officer after being found outside a Georgia resident’s house. https://t.co/H26TVoE7xI https://t.co/70jk77bDfu'>, <Tweet id=1542633166896259074 text='Ruja Ignatova, the so-called Cryptoqueen, has now been named a most-wanted fugitive by the FBI. https://t.co/w04WCHz3na'>], includes={}, errors=[], meta={'next_token': '7140dibdnow9c7btw4228a72c4ds2bmo7mups6mued35g', 'result_count': 5, 'newest_id': '1542653639482920961', 'oldest_id': '1542633166896259074'})"
      ]
     },
     "execution_count": 59,
     "metadata": {},
     "output_type": "execute_result"
    }
   ],
   "source": [
    "# Get User's Tweets\n",
    "\n",
    "# This endpoint/method returns Tweets composed by a single user, specified by the requested user ID\n",
    "\n",
    "user_id = 28785486\n",
    "start_time = \"2022-06-01T00:00:00Z\"\n",
    "end_time = \"2022-07-01T00:00:01Z\"\n",
    "\n",
    "def get_users_tweets(user_id):\n",
    "    users_tweets = client.get_users_tweets(id=user_id,\n",
    "                                           end_time=end_time, \n",
    "                                           exclude=[\"retweets\"], \n",
    "                                           expansions=\"referenced_tweets.id\", \n",
    "                                           max_results=5, \n",
    "                                           start_time=start_time, \n",
    "                                           tweet_fields=[\"author_id\",\"context_annotations\",\"created_at\",\"entities\",\"in_reply_to_user_id\",\"lang\",\"public_metrics\",\"referenced_tweets\"])\n",
    "    return users_tweets\n",
    "\n",
    "users_tweets = get_users_tweets(user_id)\n",
    "users_tweets"
   ]
  },
  {
   "cell_type": "code",
   "execution_count": 62,
   "id": "06ed61e4",
   "metadata": {},
   "outputs": [
    {
     "data": {
      "text/plain": [
       "[{'domain': {'id': '45',\n",
       "   'name': 'Brand Vertical',\n",
       "   'description': 'Top level entities that describe a Brands industry'},\n",
       "  'entity': {'id': '781974597310615553', 'name': 'Entertainment'}},\n",
       " {'domain': {'id': '46',\n",
       "   'name': 'Brand Category',\n",
       "   'description': 'Categories within Brand Verticals that narrow down the scope of Brands'},\n",
       "  'entity': {'id': '781974596157181956', 'name': 'Online Site'}},\n",
       " {'domain': {'id': '46',\n",
       "   'name': 'Brand Category',\n",
       "   'description': 'Categories within Brand Verticals that narrow down the scope of Brands'},\n",
       "  'entity': {'id': '781974597105094656', 'name': 'TV/Movies Related'}},\n",
       " {'domain': {'id': '47',\n",
       "   'name': 'Brand',\n",
       "   'description': 'Brands and Companies'},\n",
       "  'entity': {'id': '1065650820518051840',\n",
       "   'name': 'ABC News',\n",
       "   'description': 'ABC News'}},\n",
       " {'domain': {'id': '29',\n",
       "   'name': 'Events [Entity Service]',\n",
       "   'description': 'Entity Service related Events domain'},\n",
       "  'entity': {'id': '1448744041105944600', 'name': 'Breaking News'}},\n",
       " {'domain': {'id': '29',\n",
       "   'name': 'Events [Entity Service]',\n",
       "   'description': 'Entity Service related Events domain'},\n",
       "  'entity': {'id': '1451358585376575499', 'name': 'NZ roadmap'}}]"
      ]
     },
     "execution_count": 62,
     "metadata": {},
     "output_type": "execute_result"
    }
   ],
   "source": [
    "users_tweets.data[0][\"context_annotations\"]"
   ]
  },
  {
   "cell_type": "code",
   "execution_count": 13,
   "id": "e5ed298a",
   "metadata": {},
   "outputs": [],
   "source": [
    "# search_words = \"Joe Biden\" # This will be changed to Donald Trump when we retrieve tweets related to him.\n",
    "# date_since = \"2020-10-27\"\n",
    "# tweets = tw.Cursor(api.search_tweets, q=search_words, lang=\"en\").items(10)\n",
    "# tweets"
   ]
  },
  {
   "cell_type": "code",
   "execution_count": 14,
   "id": "b0248ef1",
   "metadata": {},
   "outputs": [],
   "source": [
    "# tweet_details = [[tweet.geo, tweet.text, tweet.user.screen_name, tweet.user.location] for tweet in tweets]\n",
    "# tweet_df = pd.DataFrame(data=tweet_details, columns=[\"geo\",\"text\",\"user\",\"location\"])\n",
    "# tweet_df.head()"
   ]
  },
  {
   "cell_type": "code",
   "execution_count": null,
   "id": "98e3e653",
   "metadata": {},
   "outputs": [],
   "source": [
    "# df.to_csv('data.csv')"
   ]
  }
 ],
 "metadata": {
  "kernelspec": {
   "display_name": "Python 3 (ipykernel)",
   "language": "python",
   "name": "python3"
  },
  "language_info": {
   "codemirror_mode": {
    "name": "ipython",
    "version": 3
   },
   "file_extension": ".py",
   "mimetype": "text/x-python",
   "name": "python",
   "nbconvert_exporter": "python",
   "pygments_lexer": "ipython3",
   "version": "3.9.12"
  }
 },
 "nbformat": 4,
 "nbformat_minor": 5
}
