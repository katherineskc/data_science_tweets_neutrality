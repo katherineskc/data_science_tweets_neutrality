{
 "cells": [
  {
   "cell_type": "markdown",
   "id": "1ec5810e",
   "metadata": {},
   "source": [
    "# Tweet Label"
   ]
  },
  {
   "cell_type": "markdown",
   "id": "8d7b0222",
   "metadata": {},
   "source": [
    "## import librairies"
   ]
  },
  {
   "cell_type": "code",
   "execution_count": 1,
   "id": "89883511",
   "metadata": {},
   "outputs": [],
   "source": [
    "import pandas as pd\n",
    "import numpy as np"
   ]
  },
  {
   "cell_type": "markdown",
   "id": "a81e39f6",
   "metadata": {},
   "source": [
    "## read tweets into a dataframe"
   ]
  },
  {
   "cell_type": "code",
   "execution_count": 2,
   "id": "d642fa9e",
   "metadata": {},
   "outputs": [
    {
     "data": {
      "text/html": [
       "<div>\n",
       "<style scoped>\n",
       "    .dataframe tbody tr th:only-of-type {\n",
       "        vertical-align: middle;\n",
       "    }\n",
       "\n",
       "    .dataframe tbody tr th {\n",
       "        vertical-align: top;\n",
       "    }\n",
       "\n",
       "    .dataframe thead th {\n",
       "        text-align: right;\n",
       "    }\n",
       "</style>\n",
       "<table border=\"1\" class=\"dataframe\">\n",
       "  <thead>\n",
       "    <tr style=\"text-align: right;\">\n",
       "      <th></th>\n",
       "      <th>tweet_id</th>\n",
       "      <th>tweet_text</th>\n",
       "      <th>tweet_author_id</th>\n",
       "      <th>tweet_context_annotations</th>\n",
       "      <th>tweet_created_at</th>\n",
       "      <th>tweet_entities</th>\n",
       "      <th>tweet_in_reply_to_user_id</th>\n",
       "      <th>tweet_lang</th>\n",
       "      <th>tweet_retweet_count</th>\n",
       "      <th>tweet_reply_count</th>\n",
       "      <th>tweet_like_count</th>\n",
       "      <th>tweet_quote_count</th>\n",
       "      <th>tweet_referenced_tweets</th>\n",
       "    </tr>\n",
       "  </thead>\n",
       "  <tbody>\n",
       "    <tr>\n",
       "      <th>0</th>\n",
       "      <td>1543217089145716737</td>\n",
       "      <td>Pentagon data shows a simple, troubling trend:...</td>\n",
       "      <td>28785486</td>\n",
       "      <td>[{'domain': {'id': '45', 'name': 'Brand Vertic...</td>\n",
       "      <td>2022-07-02 12:56:40+00:00</td>\n",
       "      <td>{'urls': [{'start': 154, 'end': 177, 'url': 'h...</td>\n",
       "      <td>NaN</td>\n",
       "      <td>en</td>\n",
       "      <td>185</td>\n",
       "      <td>288</td>\n",
       "      <td>471</td>\n",
       "      <td>108</td>\n",
       "      <td>NaN</td>\n",
       "    </tr>\n",
       "    <tr>\n",
       "      <th>1</th>\n",
       "      <td>1543211077772759042</td>\n",
       "      <td>Rescue services in Hong Kong say an industrial...</td>\n",
       "      <td>28785486</td>\n",
       "      <td>[{'domain': {'id': '45', 'name': 'Brand Vertic...</td>\n",
       "      <td>2022-07-02 12:32:47+00:00</td>\n",
       "      <td>{'urls': [{'start': 162, 'end': 185, 'url': 'h...</td>\n",
       "      <td>NaN</td>\n",
       "      <td>en</td>\n",
       "      <td>22</td>\n",
       "      <td>8</td>\n",
       "      <td>43</td>\n",
       "      <td>0</td>\n",
       "      <td>NaN</td>\n",
       "    </tr>\n",
       "    <tr>\n",
       "      <th>2</th>\n",
       "      <td>1543205864881983489</td>\n",
       "      <td>In the wake of the Supreme Court’s ruling on R...</td>\n",
       "      <td>28785486</td>\n",
       "      <td>[{'domain': {'id': '45', 'name': 'Brand Vertic...</td>\n",
       "      <td>2022-07-02 12:12:04+00:00</td>\n",
       "      <td>{'urls': [{'start': 239, 'end': 262, 'url': 'h...</td>\n",
       "      <td>NaN</td>\n",
       "      <td>en</td>\n",
       "      <td>22</td>\n",
       "      <td>20</td>\n",
       "      <td>65</td>\n",
       "      <td>1</td>\n",
       "      <td>NaN</td>\n",
       "    </tr>\n",
       "    <tr>\n",
       "      <th>3</th>\n",
       "      <td>1543200664024760321</td>\n",
       "      <td>If legislation banning or restricting abortion...</td>\n",
       "      <td>28785486</td>\n",
       "      <td>[{'domain': {'id': '45', 'name': 'Brand Vertic...</td>\n",
       "      <td>2022-07-02 11:51:24+00:00</td>\n",
       "      <td>{'urls': [{'start': 166, 'end': 189, 'url': 'h...</td>\n",
       "      <td>NaN</td>\n",
       "      <td>en</td>\n",
       "      <td>49</td>\n",
       "      <td>36</td>\n",
       "      <td>98</td>\n",
       "      <td>6</td>\n",
       "      <td>NaN</td>\n",
       "    </tr>\n",
       "    <tr>\n",
       "      <th>4</th>\n",
       "      <td>1543193997329457157</td>\n",
       "      <td>“We imagined this thing being a fairytale and ...</td>\n",
       "      <td>28785486</td>\n",
       "      <td>[{'domain': {'id': '10', 'name': 'Person', 'de...</td>\n",
       "      <td>2022-07-02 11:24:54+00:00</td>\n",
       "      <td>{'urls': [{'start': 172, 'end': 195, 'url': 'h...</td>\n",
       "      <td>NaN</td>\n",
       "      <td>en</td>\n",
       "      <td>11</td>\n",
       "      <td>8</td>\n",
       "      <td>59</td>\n",
       "      <td>0</td>\n",
       "      <td>NaN</td>\n",
       "    </tr>\n",
       "  </tbody>\n",
       "</table>\n",
       "</div>"
      ],
      "text/plain": [
       "              tweet_id                                         tweet_text  \\\n",
       "0  1543217089145716737  Pentagon data shows a simple, troubling trend:...   \n",
       "1  1543211077772759042  Rescue services in Hong Kong say an industrial...   \n",
       "2  1543205864881983489  In the wake of the Supreme Court’s ruling on R...   \n",
       "3  1543200664024760321  If legislation banning or restricting abortion...   \n",
       "4  1543193997329457157  “We imagined this thing being a fairytale and ...   \n",
       "\n",
       "   tweet_author_id                          tweet_context_annotations  \\\n",
       "0         28785486  [{'domain': {'id': '45', 'name': 'Brand Vertic...   \n",
       "1         28785486  [{'domain': {'id': '45', 'name': 'Brand Vertic...   \n",
       "2         28785486  [{'domain': {'id': '45', 'name': 'Brand Vertic...   \n",
       "3         28785486  [{'domain': {'id': '45', 'name': 'Brand Vertic...   \n",
       "4         28785486  [{'domain': {'id': '10', 'name': 'Person', 'de...   \n",
       "\n",
       "            tweet_created_at  \\\n",
       "0  2022-07-02 12:56:40+00:00   \n",
       "1  2022-07-02 12:32:47+00:00   \n",
       "2  2022-07-02 12:12:04+00:00   \n",
       "3  2022-07-02 11:51:24+00:00   \n",
       "4  2022-07-02 11:24:54+00:00   \n",
       "\n",
       "                                      tweet_entities  \\\n",
       "0  {'urls': [{'start': 154, 'end': 177, 'url': 'h...   \n",
       "1  {'urls': [{'start': 162, 'end': 185, 'url': 'h...   \n",
       "2  {'urls': [{'start': 239, 'end': 262, 'url': 'h...   \n",
       "3  {'urls': [{'start': 166, 'end': 189, 'url': 'h...   \n",
       "4  {'urls': [{'start': 172, 'end': 195, 'url': 'h...   \n",
       "\n",
       "   tweet_in_reply_to_user_id tweet_lang  tweet_retweet_count  \\\n",
       "0                        NaN         en                  185   \n",
       "1                        NaN         en                   22   \n",
       "2                        NaN         en                   22   \n",
       "3                        NaN         en                   49   \n",
       "4                        NaN         en                   11   \n",
       "\n",
       "   tweet_reply_count  tweet_like_count  tweet_quote_count  \\\n",
       "0                288               471                108   \n",
       "1                  8                43                  0   \n",
       "2                 20                65                  1   \n",
       "3                 36                98                  6   \n",
       "4                  8                59                  0   \n",
       "\n",
       "  tweet_referenced_tweets  \n",
       "0                     NaN  \n",
       "1                     NaN  \n",
       "2                     NaN  \n",
       "3                     NaN  \n",
       "4                     NaN  "
      ]
     },
     "execution_count": 2,
     "metadata": {},
     "output_type": "execute_result"
    }
   ],
   "source": [
    "twitter_combined_tweet_data = pd.read_csv (r'/Users/katherina/data_science_tweets_neutrality/twitter_combined_tweet_data.csv')\n",
    "twitter_combined_tweet_data.head()"
   ]
  },
  {
   "cell_type": "markdown",
   "id": "8a1905a8",
   "metadata": {},
   "source": [
    "## label tweet"
   ]
  },
  {
   "cell_type": "code",
   "execution_count": 21,
   "id": "e18d364d",
   "metadata": {},
   "outputs": [
    {
     "data": {
      "text/plain": [
       "tweet_type\n",
       "reply        4036\n",
       "retweet     11605\n",
       "tweet      120929\n",
       "Name: tweet_type, dtype: int64"
      ]
     },
     "execution_count": 21,
     "metadata": {},
     "output_type": "execute_result"
    }
   ],
   "source": [
    "conditions = [\n",
    "    (twitter_combined_tweet_data['tweet_in_reply_to_user_id'].isnull() == False),\n",
    "    (twitter_combined_tweet_data['tweet_referenced_tweets'].isnull() == False) ,\n",
    "    (twitter_combined_tweet_data['tweet_in_reply_to_user_id'].isnull() & \n",
    "     (twitter_combined_tweet_data['tweet_referenced_tweets'].isnull()))\n",
    "    ]\n",
    "\n",
    "values = ['reply', 'retweet', 'tweet']\n",
    "\n",
    "\n",
    "twitter_combined_tweet_data['tweet_type'] = np.select(conditions,values)\n",
    "twitter_combined_tweet_data.groupby(['tweet_type'])['tweet_type'].count()"
   ]
  },
  {
   "cell_type": "code",
   "execution_count": 8,
   "id": "62e896cf",
   "metadata": {},
   "outputs": [
    {
     "data": {
      "text/plain": [
       "tweet_topic_label_us_political_news\n",
       "False    136425\n",
       "True        145\n",
       "Name: tweet_topic_label_us_political_news, dtype: int64"
      ]
     },
     "execution_count": 8,
     "metadata": {},
     "output_type": "execute_result"
    }
   ],
   "source": [
    "# twitter entity topic labels contains \"US Political News\"\n",
    "\n",
    "twitter_combined_tweet_data['tweet_topic_label_us_political_news'] = np.where(twitter_combined_tweet_data['tweet_entities'].str.contains(\"US Political News\"), True, False)\n",
    "twitter_combined_tweet_data.groupby(['tweet_topic_label_us_political_news'])['tweet_topic_label_us_political_news'].count()"
   ]
  },
  {
   "cell_type": "code",
   "execution_count": null,
   "id": "34afde28",
   "metadata": {},
   "outputs": [],
   "source": [
    "# topics keywords\n",
    "\n",
    "abortion_keyword_lst = [\"abortion\", \"planned parenthood\"]\n",
    "gun_control_keyword_lst = [\"gun\",\"armed\"]\n",
    "gay_marriage_keyword_lst = [\"gay marriage\",\"same sex marriage\"]\n",
    "climate_change_keyword_lst = [\"climate change\",\"global warming\",\"extreme weather\"]\n",
    "gender_identity_keyword_lst = [\"gender identity\"]"
   ]
  }
 ],
 "metadata": {
  "kernelspec": {
   "display_name": "Python 3 (ipykernel)",
   "language": "python",
   "name": "python3"
  },
  "language_info": {
   "codemirror_mode": {
    "name": "ipython",
    "version": 3
   },
   "file_extension": ".py",
   "mimetype": "text/x-python",
   "name": "python",
   "nbconvert_exporter": "python",
   "pygments_lexer": "ipython3",
   "version": "3.9.12"
  }
 },
 "nbformat": 4,
 "nbformat_minor": 5
}
