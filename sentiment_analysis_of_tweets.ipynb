{
 "cells": [
  {
   "cell_type": "markdown",
   "id": "7a7a9432",
   "metadata": {},
   "source": [
    "# Sentiment Analysis of Tweets"
   ]
  },
  {
   "cell_type": "markdown",
   "id": "2b852e73",
   "metadata": {},
   "source": [
    "## import librairies"
   ]
  },
  {
   "cell_type": "code",
   "execution_count": 1,
   "id": "ba15ecdf",
   "metadata": {},
   "outputs": [
    {
     "name": "stdout",
     "output_type": "stream",
     "text": [
      "Collecting vaderSentiment\n",
      "  Downloading vaderSentiment-3.3.2-py2.py3-none-any.whl (125 kB)\n",
      "\u001b[K     |████████████████████████████████| 125 kB 4.4 MB/s eta 0:00:01\n",
      "\u001b[?25hRequirement already satisfied: requests in /Users/katherina/opt/anaconda3/lib/python3.9/site-packages (from vaderSentiment) (2.28.1)\n",
      "Requirement already satisfied: urllib3<1.27,>=1.21.1 in /Users/katherina/opt/anaconda3/lib/python3.9/site-packages (from requests->vaderSentiment) (1.26.9)\n",
      "Requirement already satisfied: certifi>=2017.4.17 in /Users/katherina/opt/anaconda3/lib/python3.9/site-packages (from requests->vaderSentiment) (2021.10.8)\n",
      "Requirement already satisfied: idna<4,>=2.5 in /Users/katherina/opt/anaconda3/lib/python3.9/site-packages (from requests->vaderSentiment) (3.3)\n",
      "Requirement already satisfied: charset-normalizer<3,>=2 in /Users/katherina/opt/anaconda3/lib/python3.9/site-packages (from requests->vaderSentiment) (2.0.4)\n",
      "Installing collected packages: vaderSentiment\n",
      "Successfully installed vaderSentiment-3.3.2\n",
      "Note: you may need to restart the kernel to use updated packages.\n"
     ]
    }
   ],
   "source": [
    "# pip install vaderSentiment"
   ]
  },
  {
   "cell_type": "code",
   "execution_count": 2,
   "id": "255e6d9d",
   "metadata": {},
   "outputs": [],
   "source": [
    "from vaderSentiment.vaderSentiment import SentimentIntensityAnalyzer\n",
    "analyser = SentimentIntensityAnalyzer()"
   ]
  },
  {
   "cell_type": "code",
   "execution_count": 66,
   "id": "209c0ff3",
   "metadata": {},
   "outputs": [
    {
     "data": {
      "text/plain": [
       "{'neg': 0.0, 'neu': 0.517, 'pos': 0.483, 'compound': 0.4215}"
      ]
     },
     "execution_count": 66,
     "metadata": {},
     "output_type": "execute_result"
    }
   ],
   "source": [
    "# test the analyser\n",
    "\n",
    "analyser.polarity_scores(\"The weather is nice.\")"
   ]
  },
  {
   "cell_type": "code",
   "execution_count": 21,
   "id": "3b532309",
   "metadata": {},
   "outputs": [],
   "source": [
    "import pandas as pd\n",
    "import numpy as np\n",
    "import re"
   ]
  },
  {
   "cell_type": "markdown",
   "id": "caa08d24",
   "metadata": {},
   "source": [
    "## read tweets into a dataframe"
   ]
  },
  {
   "cell_type": "code",
   "execution_count": 29,
   "id": "d69d7e14",
   "metadata": {},
   "outputs": [
    {
     "data": {
      "text/html": [
       "<div>\n",
       "<style scoped>\n",
       "    .dataframe tbody tr th:only-of-type {\n",
       "        vertical-align: middle;\n",
       "    }\n",
       "\n",
       "    .dataframe tbody tr th {\n",
       "        vertical-align: top;\n",
       "    }\n",
       "\n",
       "    .dataframe thead th {\n",
       "        text-align: right;\n",
       "    }\n",
       "</style>\n",
       "<table border=\"1\" class=\"dataframe\">\n",
       "  <thead>\n",
       "    <tr style=\"text-align: right;\">\n",
       "      <th></th>\n",
       "      <th>tweet_id</th>\n",
       "      <th>tweet_text</th>\n",
       "      <th>tweet_author_id</th>\n",
       "      <th>tweet_context_annotations</th>\n",
       "      <th>tweet_created_at</th>\n",
       "      <th>tweet_entities</th>\n",
       "      <th>tweet_in_reply_to_user_id</th>\n",
       "      <th>tweet_lang</th>\n",
       "      <th>tweet_retweet_count</th>\n",
       "      <th>tweet_reply_count</th>\n",
       "      <th>tweet_like_count</th>\n",
       "      <th>tweet_quote_count</th>\n",
       "      <th>tweet_referenced_tweets</th>\n",
       "    </tr>\n",
       "  </thead>\n",
       "  <tbody>\n",
       "    <tr>\n",
       "      <th>0</th>\n",
       "      <td>1553892491962843136</td>\n",
       "      <td>Smokers and vapers are more likely to have a s...</td>\n",
       "      <td>28785486</td>\n",
       "      <td>[{'domain': {'id': '45', 'name': 'Brand Vertic...</td>\n",
       "      <td>2022-07-31 23:56:54+00:00</td>\n",
       "      <td>{'urls': [{'start': 111, 'end': 134, 'url': 'h...</td>\n",
       "      <td>NaN</td>\n",
       "      <td>en</td>\n",
       "      <td>59</td>\n",
       "      <td>43</td>\n",
       "      <td>144</td>\n",
       "      <td>16</td>\n",
       "      <td>NaN</td>\n",
       "    </tr>\n",
       "    <tr>\n",
       "      <th>1</th>\n",
       "      <td>1553886764930138122</td>\n",
       "      <td>Gun manufacturers have made more than $1 billi...</td>\n",
       "      <td>28785486</td>\n",
       "      <td>[{'domain': {'id': '45', 'name': 'Brand Vertic...</td>\n",
       "      <td>2022-07-31 23:34:09+00:00</td>\n",
       "      <td>{'urls': [{'start': 214, 'end': 237, 'url': 'h...</td>\n",
       "      <td>NaN</td>\n",
       "      <td>en</td>\n",
       "      <td>82</td>\n",
       "      <td>388</td>\n",
       "      <td>187</td>\n",
       "      <td>65</td>\n",
       "      <td>NaN</td>\n",
       "    </tr>\n",
       "    <tr>\n",
       "      <th>2</th>\n",
       "      <td>1553880276702560256</td>\n",
       "      <td>Misinformation and stigma may be holding back ...</td>\n",
       "      <td>28785486</td>\n",
       "      <td>[{'domain': {'id': '45', 'name': 'Brand Vertic...</td>\n",
       "      <td>2022-07-31 23:08:22+00:00</td>\n",
       "      <td>{'urls': [{'start': 69, 'end': 92, 'url': 'htt...</td>\n",
       "      <td>NaN</td>\n",
       "      <td>en</td>\n",
       "      <td>24</td>\n",
       "      <td>39</td>\n",
       "      <td>46</td>\n",
       "      <td>3</td>\n",
       "      <td>NaN</td>\n",
       "    </tr>\n",
       "    <tr>\n",
       "      <th>3</th>\n",
       "      <td>1553872564820361222</td>\n",
       "      <td>Rising concern over the impact of a potential ...</td>\n",
       "      <td>28785486</td>\n",
       "      <td>[{'domain': {'id': '45', 'name': 'Brand Vertic...</td>\n",
       "      <td>2022-07-31 22:37:43+00:00</td>\n",
       "      <td>{'annotations': [{'start': 90, 'end': 96, 'pro...</td>\n",
       "      <td>NaN</td>\n",
       "      <td>en</td>\n",
       "      <td>23</td>\n",
       "      <td>28</td>\n",
       "      <td>58</td>\n",
       "      <td>7</td>\n",
       "      <td>NaN</td>\n",
       "    </tr>\n",
       "    <tr>\n",
       "      <th>4</th>\n",
       "      <td>1553865859977908225</td>\n",
       "      <td>At least 28 people have been confirmed dead, b...</td>\n",
       "      <td>28785486</td>\n",
       "      <td>[{'domain': {'id': '10', 'name': 'Person', 'de...</td>\n",
       "      <td>2022-07-31 22:11:05+00:00</td>\n",
       "      <td>{'annotations': [{'start': 98, 'end': 109, 'pr...</td>\n",
       "      <td>NaN</td>\n",
       "      <td>en</td>\n",
       "      <td>83</td>\n",
       "      <td>38</td>\n",
       "      <td>204</td>\n",
       "      <td>6</td>\n",
       "      <td>NaN</td>\n",
       "    </tr>\n",
       "  </tbody>\n",
       "</table>\n",
       "</div>"
      ],
      "text/plain": [
       "              tweet_id                                         tweet_text  \\\n",
       "0  1553892491962843136  Smokers and vapers are more likely to have a s...   \n",
       "1  1553886764930138122  Gun manufacturers have made more than $1 billi...   \n",
       "2  1553880276702560256  Misinformation and stigma may be holding back ...   \n",
       "3  1553872564820361222  Rising concern over the impact of a potential ...   \n",
       "4  1553865859977908225  At least 28 people have been confirmed dead, b...   \n",
       "\n",
       "   tweet_author_id                          tweet_context_annotations  \\\n",
       "0         28785486  [{'domain': {'id': '45', 'name': 'Brand Vertic...   \n",
       "1         28785486  [{'domain': {'id': '45', 'name': 'Brand Vertic...   \n",
       "2         28785486  [{'domain': {'id': '45', 'name': 'Brand Vertic...   \n",
       "3         28785486  [{'domain': {'id': '45', 'name': 'Brand Vertic...   \n",
       "4         28785486  [{'domain': {'id': '10', 'name': 'Person', 'de...   \n",
       "\n",
       "            tweet_created_at  \\\n",
       "0  2022-07-31 23:56:54+00:00   \n",
       "1  2022-07-31 23:34:09+00:00   \n",
       "2  2022-07-31 23:08:22+00:00   \n",
       "3  2022-07-31 22:37:43+00:00   \n",
       "4  2022-07-31 22:11:05+00:00   \n",
       "\n",
       "                                      tweet_entities  \\\n",
       "0  {'urls': [{'start': 111, 'end': 134, 'url': 'h...   \n",
       "1  {'urls': [{'start': 214, 'end': 237, 'url': 'h...   \n",
       "2  {'urls': [{'start': 69, 'end': 92, 'url': 'htt...   \n",
       "3  {'annotations': [{'start': 90, 'end': 96, 'pro...   \n",
       "4  {'annotations': [{'start': 98, 'end': 109, 'pr...   \n",
       "\n",
       "   tweet_in_reply_to_user_id tweet_lang  tweet_retweet_count  \\\n",
       "0                        NaN         en                   59   \n",
       "1                        NaN         en                   82   \n",
       "2                        NaN         en                   24   \n",
       "3                        NaN         en                   23   \n",
       "4                        NaN         en                   83   \n",
       "\n",
       "   tweet_reply_count  tweet_like_count  tweet_quote_count  \\\n",
       "0                 43               144                 16   \n",
       "1                388               187                 65   \n",
       "2                 39                46                  3   \n",
       "3                 28                58                  7   \n",
       "4                 38               204                  6   \n",
       "\n",
       "  tweet_referenced_tweets  \n",
       "0                     NaN  \n",
       "1                     NaN  \n",
       "2                     NaN  \n",
       "3                     NaN  \n",
       "4                     NaN  "
      ]
     },
     "execution_count": 29,
     "metadata": {},
     "output_type": "execute_result"
    }
   ],
   "source": [
    "# twitter_users_tweets_2022_july_data\n",
    "\n",
    "twitter_combined_tweet_data = pd.read_csv (r'/Users/katherina/data_science_tweets_neutrality/twitter_combined_tweet_data.csv')\n",
    "twitter_combined_tweet_data.head()"
   ]
  },
  {
   "cell_type": "markdown",
   "id": "5f76356e",
   "metadata": {},
   "source": [
    "## test the analyser"
   ]
  },
  {
   "cell_type": "code",
   "execution_count": 34,
   "id": "0297d3dc",
   "metadata": {},
   "outputs": [],
   "source": [
    "tweet_data = twitter_users_tweets_2022_july_data"
   ]
  },
  {
   "cell_type": "code",
   "execution_count": 35,
   "id": "42bc448e",
   "metadata": {},
   "outputs": [
    {
     "data": {
      "text/plain": [
       "'Smokers and vapers are more likely to have a severe case of COVID-19 or die of the disease, a new study finds. https://t.co/G9D1rpnGBf'"
      ]
     },
     "execution_count": 35,
     "metadata": {},
     "output_type": "execute_result"
    }
   ],
   "source": [
    "tweet_text = tweet_data.tweet_text[0]\n",
    "tweet_text"
   ]
  },
  {
   "cell_type": "code",
   "execution_count": 11,
   "id": "03051c28",
   "metadata": {},
   "outputs": [
    {
     "data": {
      "text/plain": [
       "{'neg': 0.236, 'neu': 0.764, 'pos': 0.0, 'compound': -0.7579}"
      ]
     },
     "execution_count": 11,
     "metadata": {},
     "output_type": "execute_result"
    }
   ],
   "source": [
    "analyser.polarity_scores(tweet_text)"
   ]
  },
  {
   "cell_type": "code",
   "execution_count": 12,
   "id": "cbe71d24",
   "metadata": {},
   "outputs": [
    {
     "data": {
      "text/plain": [
       "{'neg': 0.0, 'neu': 0.0, 'pos': 1.0, 'compound': 0.4588}"
      ]
     },
     "execution_count": 12,
     "metadata": {},
     "output_type": "execute_result"
    }
   ],
   "source": [
    "analyser.polarity_scores(\":)\")"
   ]
  },
  {
   "cell_type": "code",
   "execution_count": 58,
   "id": "a5242429",
   "metadata": {},
   "outputs": [
    {
     "data": {
      "text/plain": [
       "{'neg': 0.0, 'neu': 0.408, 'pos': 0.592, 'compound': 0.4404}"
      ]
     },
     "execution_count": 58,
     "metadata": {},
     "output_type": "execute_result"
    }
   ],
   "source": [
    "analyser.polarity_scores(\"That is good\")"
   ]
  },
  {
   "cell_type": "code",
   "execution_count": 59,
   "id": "b9c4d895",
   "metadata": {},
   "outputs": [
    {
     "data": {
      "text/plain": [
       "{'neg': 0.0, 'neu': 0.355, 'pos': 0.645, 'compound': 0.5622}"
      ]
     },
     "execution_count": 59,
     "metadata": {},
     "output_type": "execute_result"
    }
   ],
   "source": [
    "analyser.polarity_scores(\"That is GOOD\")"
   ]
  },
  {
   "cell_type": "code",
   "execution_count": 60,
   "id": "df04a56f",
   "metadata": {},
   "outputs": [
    {
     "data": {
      "text/plain": [
       "{'neg': 0.0, 'neu': 0.408, 'pos': 0.592, 'compound': 0.4404}"
      ]
     },
     "execution_count": 60,
     "metadata": {},
     "output_type": "execute_result"
    }
   ],
   "source": [
    "analyser.polarity_scores(\"That is Good.\")"
   ]
  },
  {
   "cell_type": "code",
   "execution_count": 61,
   "id": "160b35b2",
   "metadata": {},
   "outputs": [
    {
     "data": {
      "text/plain": [
       "{'neg': 0.0, 'neu': 0.385, 'pos': 0.615, 'compound': 0.4926}"
      ]
     },
     "execution_count": 61,
     "metadata": {},
     "output_type": "execute_result"
    }
   ],
   "source": [
    "analyser.polarity_scores(\"That is Good!\")"
   ]
  },
  {
   "cell_type": "code",
   "execution_count": 62,
   "id": "5b64eba0",
   "metadata": {},
   "outputs": [
    {
     "data": {
      "text/plain": [
       "{'neg': 0.0, 'neu': 0.408, 'pos': 0.592, 'compound': 0.4404}"
      ]
     },
     "execution_count": 62,
     "metadata": {},
     "output_type": "execute_result"
    }
   ],
   "source": [
    "analyser.polarity_scores(\"That is good...\")"
   ]
  },
  {
   "cell_type": "code",
   "execution_count": 64,
   "id": "825dfd0a",
   "metadata": {},
   "outputs": [
    {
     "data": {
      "text/plain": [
       "{'neg': 0.0, 'neu': 0.508, 'pos': 0.492, 'compound': 0.4404}"
      ]
     },
     "execution_count": 64,
     "metadata": {},
     "output_type": "execute_result"
    }
   ],
   "source": [
    "analyser.polarity_scores(\"That is 1 good.\")"
   ]
  },
  {
   "cell_type": "markdown",
   "id": "df1ea78e",
   "metadata": {},
   "source": [
    "## text preprocessing"
   ]
  },
  {
   "cell_type": "code",
   "execution_count": 43,
   "id": "6947268d",
   "metadata": {},
   "outputs": [],
   "source": [
    "#cleaning the tweets\n",
    "def remove_pattern(input_txt, pattern):\n",
    "    r = re.findall(pattern, input_txt)\n",
    "    for i in r:\n",
    "        input_txt = re.sub(i, '', input_txt)        \n",
    "    return input_txt\n",
    "def clean_tweets(tweets):\n",
    "    #remove twitter Return handles (RT @xxx:)\n",
    "    tweets = np.vectorize(remove_pattern)(tweets, \"RT @[\\w]*:\") \n",
    "    \n",
    "    #remove twitter handles (@xxx)\n",
    "    tweets = np.vectorize(remove_pattern)(tweets, \"@[\\w]*\")\n",
    "    \n",
    "    #remove URL links (httpxxx)\n",
    "    tweets = np.vectorize(remove_pattern)(tweets, \"https?://[A-Za-z0-9./]*\")\n",
    "    \n",
    "    #remove special characters, numbers, punctuations (except for #)\n",
    "    tweets = np.core.defchararray.replace(tweets, \"[^a-zA-Z]\", \" \")\n",
    "    \n",
    "    return tweets"
   ]
  },
  {
   "cell_type": "code",
   "execution_count": 36,
   "id": "e35989dd",
   "metadata": {},
   "outputs": [
    {
     "data": {
      "text/plain": [
       "0    Smokers and vapers are more likely to have a s...\n",
       "1    Gun manufacturers have made more than $1 billi...\n",
       "2    Misinformation and stigma may be holding back ...\n",
       "3    Rising concern over the impact of a potential ...\n",
       "4    At least 28 people have been confirmed dead, b...\n",
       "Name: cleaned_tweet_text, dtype: object"
      ]
     },
     "execution_count": 36,
     "metadata": {},
     "output_type": "execute_result"
    }
   ],
   "source": [
    "tweet_data['cleaned_tweet_text'] = clean_tweets(tweet_data['tweet_text'])\n",
    "tweet_data['cleaned_tweet_text'].head()"
   ]
  },
  {
   "cell_type": "code",
   "execution_count": 53,
   "id": "4e4be754",
   "metadata": {},
   "outputs": [
    {
     "name": "stdout",
     "output_type": "stream",
     "text": [
      "original_tweet_text: Smokers and vapers are more likely to have a severe case of COVID-19 or die of the disease, a new study finds. https://t.co/G9D1rpnGBf \n",
      "scores {'neg': 0.236, 'neu': 0.764, 'pos': 0.0, 'compound': -0.7579} \n",
      "\n",
      "cleaned_tweet_text: Smokers and vapers are more likely to have a severe case of COVID-19 or die of the disease, a new study finds.  \n",
      "scores {'neg': 0.245, 'neu': 0.755, 'pos': 0.0, 'compound': -0.7579}\n"
     ]
    }
   ],
   "source": [
    "tweet_text = tweet_data.tweet_text[0]\n",
    "cleaned_tweet_text = tweet_data.cleaned_tweet_text[0]\n",
    "\n",
    "print(\"original_tweet_text:\",tweet_text, \"\\nscores\",analyser.polarity_scores(tweet_text),\n",
    "      \"\\n\\ncleaned_tweet_text:\",cleaned_tweet_text, \"\\nscores\",analyser.polarity_scores(cleaned_tweet_text))"
   ]
  },
  {
   "cell_type": "code",
   "execution_count": 52,
   "id": "8645b599",
   "metadata": {},
   "outputs": [
    {
     "name": "stdout",
     "output_type": "stream",
     "text": [
      "original_tweet_text: Gun manufacturers have made more than $1 billion from selling AR-15-style guns over the past decade, and for two companies those revenues have tripled over the past three years, according to a House investigation. https://t.co/bhfdFrxtH3 \n",
      "scores {'neg': 0.066, 'neu': 0.934, 'pos': 0.0, 'compound': -0.34} \n",
      "\n",
      "cleaned_tweet_text: Gun manufacturers have made more than $1 billion from selling AR-15-style guns over the past decade, and for two companies those revenues have tripled over the past three years, according to a House investigation.  \n",
      "scores {'neg': 0.068, 'neu': 0.932, 'pos': 0.0, 'compound': -0.34}\n"
     ]
    }
   ],
   "source": [
    "tweet_text = tweet_data.tweet_text[1]\n",
    "cleaned_tweet_text = tweet_data.cleaned_tweet_text[1]\n",
    "\n",
    "print(\"original_tweet_text:\",tweet_text, \"\\nscores\",analyser.polarity_scores(tweet_text),\n",
    "      \"\\n\\ncleaned_tweet_text:\",cleaned_tweet_text, \"\\nscores\",analyser.polarity_scores(cleaned_tweet_text))"
   ]
  },
  {
   "cell_type": "code",
   "execution_count": 41,
   "id": "652059a1",
   "metadata": {},
   "outputs": [
    {
     "data": {
      "text/html": [
       "<div>\n",
       "<style scoped>\n",
       "    .dataframe tbody tr th:only-of-type {\n",
       "        vertical-align: middle;\n",
       "    }\n",
       "\n",
       "    .dataframe tbody tr th {\n",
       "        vertical-align: top;\n",
       "    }\n",
       "\n",
       "    .dataframe thead th {\n",
       "        text-align: right;\n",
       "    }\n",
       "</style>\n",
       "<table border=\"1\" class=\"dataframe\">\n",
       "  <thead>\n",
       "    <tr style=\"text-align: right;\">\n",
       "      <th></th>\n",
       "      <th>tweet_id</th>\n",
       "      <th>scores_compound</th>\n",
       "      <th>scores_positive</th>\n",
       "      <th>scores_negative</th>\n",
       "      <th>scores_neutral</th>\n",
       "    </tr>\n",
       "  </thead>\n",
       "  <tbody>\n",
       "    <tr>\n",
       "      <th>0</th>\n",
       "      <td>1553892491962843136</td>\n",
       "      <td>-0.7579</td>\n",
       "      <td>0.000</td>\n",
       "      <td>0.245</td>\n",
       "      <td>0.755</td>\n",
       "    </tr>\n",
       "    <tr>\n",
       "      <th>1</th>\n",
       "      <td>1553886764930138122</td>\n",
       "      <td>-0.3400</td>\n",
       "      <td>0.000</td>\n",
       "      <td>0.068</td>\n",
       "      <td>0.932</td>\n",
       "    </tr>\n",
       "    <tr>\n",
       "      <th>2</th>\n",
       "      <td>1553880276702560256</td>\n",
       "      <td>-0.3182</td>\n",
       "      <td>0.000</td>\n",
       "      <td>0.204</td>\n",
       "      <td>0.796</td>\n",
       "    </tr>\n",
       "    <tr>\n",
       "      <th>3</th>\n",
       "      <td>1553872564820361222</td>\n",
       "      <td>0.0000</td>\n",
       "      <td>0.000</td>\n",
       "      <td>0.000</td>\n",
       "      <td>1.000</td>\n",
       "    </tr>\n",
       "    <tr>\n",
       "      <th>4</th>\n",
       "      <td>1553865859977908225</td>\n",
       "      <td>-0.6808</td>\n",
       "      <td>0.099</td>\n",
       "      <td>0.180</td>\n",
       "      <td>0.721</td>\n",
       "    </tr>\n",
       "  </tbody>\n",
       "</table>\n",
       "</div>"
      ],
      "text/plain": [
       "              tweet_id  scores_compound  scores_positive  scores_negative  \\\n",
       "0  1553892491962843136          -0.7579            0.000            0.245   \n",
       "1  1553886764930138122          -0.3400            0.000            0.068   \n",
       "2  1553880276702560256          -0.3182            0.000            0.204   \n",
       "3  1553872564820361222           0.0000            0.000            0.000   \n",
       "4  1553865859977908225          -0.6808            0.099            0.180   \n",
       "\n",
       "   scores_neutral  \n",
       "0           0.755  \n",
       "1           0.932  \n",
       "2           0.796  \n",
       "3           1.000  \n",
       "4           0.721  "
      ]
     },
     "execution_count": 41,
     "metadata": {},
     "output_type": "execute_result"
    }
   ],
   "source": [
    "tweet_polarity_scores = []\n",
    "\n",
    "for i in range(tweet_data['cleaned_tweet_text'].shape[0]):\n",
    "    tweet_id = tweet_data['tweet_id'][i]\n",
    "    compound = analyser.polarity_scores(tweet_data['cleaned_tweet_text'][i])[\"compound\"]\n",
    "    pos = analyser.polarity_scores(tweet_data['cleaned_tweet_text'][i])[\"pos\"]\n",
    "    neu = analyser.polarity_scores(tweet_data['cleaned_tweet_text'][i])[\"neu\"]\n",
    "    neg = analyser.polarity_scores(tweet_data['cleaned_tweet_text'][i])[\"neg\"]\n",
    "    \n",
    "    tweet_polarity_scores.append({\"tweet_id\": tweet_id,\n",
    "                       \"scores_compound\": compound,\n",
    "                       \"scores_positive\": pos,\n",
    "                       \"scores_negative\": neg,\n",
    "                       \"scores_neutral\": neu\n",
    "                  })\n",
    "\n",
    "tweet_sentiments_score = pd.DataFrame.from_dict(tweet_polarity_scores)\n",
    "tweet_sentiments_score.head()"
   ]
  },
  {
   "cell_type": "code",
   "execution_count": null,
   "id": "0bc47249",
   "metadata": {},
   "outputs": [],
   "source": []
  }
 ],
 "metadata": {
  "kernelspec": {
   "display_name": "Python 3 (ipykernel)",
   "language": "python",
   "name": "python3"
  },
  "language_info": {
   "codemirror_mode": {
    "name": "ipython",
    "version": 3
   },
   "file_extension": ".py",
   "mimetype": "text/x-python",
   "name": "python",
   "nbconvert_exporter": "python",
   "pygments_lexer": "ipython3",
   "version": "3.9.12"
  }
 },
 "nbformat": 4,
 "nbformat_minor": 5
}
