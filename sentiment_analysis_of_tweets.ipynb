{
 "cells": [
  {
   "cell_type": "markdown",
   "id": "7a7a9432",
   "metadata": {},
   "source": [
    "# Sentiment Analysis of Tweets"
   ]
  },
  {
   "cell_type": "markdown",
   "id": "2b852e73",
   "metadata": {},
   "source": [
    "## import librairies"
   ]
  },
  {
   "cell_type": "code",
   "execution_count": 1,
   "id": "ba15ecdf",
   "metadata": {},
   "outputs": [],
   "source": [
    "# pip install vaderSentiment"
   ]
  },
  {
   "cell_type": "code",
   "execution_count": 2,
   "id": "255e6d9d",
   "metadata": {},
   "outputs": [],
   "source": [
    "from vaderSentiment.vaderSentiment import SentimentIntensityAnalyzer\n",
    "analyser = SentimentIntensityAnalyzer()"
   ]
  },
  {
   "cell_type": "code",
   "execution_count": 3,
   "id": "209c0ff3",
   "metadata": {},
   "outputs": [
    {
     "data": {
      "text/plain": [
       "{'neg': 0.0, 'neu': 0.517, 'pos': 0.483, 'compound': 0.4215}"
      ]
     },
     "execution_count": 3,
     "metadata": {},
     "output_type": "execute_result"
    }
   ],
   "source": [
    "# test the analyser\n",
    "\n",
    "analyser.polarity_scores(\"The weather is nice.\")"
   ]
  },
  {
   "cell_type": "code",
   "execution_count": 4,
   "id": "3b532309",
   "metadata": {},
   "outputs": [],
   "source": [
    "import pandas as pd\n",
    "import numpy as np\n",
    "import regex as re"
   ]
  },
  {
   "cell_type": "markdown",
   "id": "caa08d24",
   "metadata": {},
   "source": [
    "## read tweets into a dataframe"
   ]
  },
  {
   "cell_type": "code",
   "execution_count": 5,
   "id": "d69d7e14",
   "metadata": {},
   "outputs": [
    {
     "data": {
      "text/html": [
       "<div>\n",
       "<style scoped>\n",
       "    .dataframe tbody tr th:only-of-type {\n",
       "        vertical-align: middle;\n",
       "    }\n",
       "\n",
       "    .dataframe tbody tr th {\n",
       "        vertical-align: top;\n",
       "    }\n",
       "\n",
       "    .dataframe thead th {\n",
       "        text-align: right;\n",
       "    }\n",
       "</style>\n",
       "<table border=\"1\" class=\"dataframe\">\n",
       "  <thead>\n",
       "    <tr style=\"text-align: right;\">\n",
       "      <th></th>\n",
       "      <th>tweet_id</th>\n",
       "      <th>tweet_text</th>\n",
       "      <th>tweet_author_id</th>\n",
       "      <th>tweet_context_annotations</th>\n",
       "      <th>tweet_created_at</th>\n",
       "      <th>tweet_entities</th>\n",
       "      <th>tweet_in_reply_to_user_id</th>\n",
       "      <th>tweet_lang</th>\n",
       "      <th>tweet_retweet_count</th>\n",
       "      <th>tweet_reply_count</th>\n",
       "      <th>...</th>\n",
       "      <th>tweet_quote_count</th>\n",
       "      <th>tweet_referenced_tweets</th>\n",
       "      <th>tweet_type</th>\n",
       "      <th>tweet_topic_label_us_political_news</th>\n",
       "      <th>contains_abortion_keyword</th>\n",
       "      <th>contains_gun_control_keyword</th>\n",
       "      <th>contains_gay_marriage_keyword</th>\n",
       "      <th>contains_climate_change_keyword</th>\n",
       "      <th>contains_gender_identity_keyword</th>\n",
       "      <th>contains_inflation_keyword</th>\n",
       "    </tr>\n",
       "  </thead>\n",
       "  <tbody>\n",
       "    <tr>\n",
       "      <th>0</th>\n",
       "      <td>1543217089145716737</td>\n",
       "      <td>Pentagon data shows a simple, troubling trend:...</td>\n",
       "      <td>28785486</td>\n",
       "      <td>[{'domain': {'id': '45', 'name': 'Brand Vertic...</td>\n",
       "      <td>2022-07-02 12:56:40+00:00</td>\n",
       "      <td>{'urls': [{'start': 154, 'end': 177, 'url': 'h...</td>\n",
       "      <td>NaN</td>\n",
       "      <td>en</td>\n",
       "      <td>185</td>\n",
       "      <td>288</td>\n",
       "      <td>...</td>\n",
       "      <td>108</td>\n",
       "      <td>NaN</td>\n",
       "      <td>tweet</td>\n",
       "      <td>False</td>\n",
       "      <td>False</td>\n",
       "      <td>False</td>\n",
       "      <td>False</td>\n",
       "      <td>False</td>\n",
       "      <td>False</td>\n",
       "      <td>False</td>\n",
       "    </tr>\n",
       "    <tr>\n",
       "      <th>1</th>\n",
       "      <td>1543211077772759042</td>\n",
       "      <td>Rescue services in Hong Kong say an industrial...</td>\n",
       "      <td>28785486</td>\n",
       "      <td>[{'domain': {'id': '45', 'name': 'Brand Vertic...</td>\n",
       "      <td>2022-07-02 12:32:47+00:00</td>\n",
       "      <td>{'urls': [{'start': 162, 'end': 185, 'url': 'h...</td>\n",
       "      <td>NaN</td>\n",
       "      <td>en</td>\n",
       "      <td>22</td>\n",
       "      <td>8</td>\n",
       "      <td>...</td>\n",
       "      <td>0</td>\n",
       "      <td>NaN</td>\n",
       "      <td>tweet</td>\n",
       "      <td>False</td>\n",
       "      <td>False</td>\n",
       "      <td>False</td>\n",
       "      <td>False</td>\n",
       "      <td>False</td>\n",
       "      <td>False</td>\n",
       "      <td>False</td>\n",
       "    </tr>\n",
       "    <tr>\n",
       "      <th>2</th>\n",
       "      <td>1543205864881983489</td>\n",
       "      <td>In the wake of the Supreme Court’s ruling on R...</td>\n",
       "      <td>28785486</td>\n",
       "      <td>[{'domain': {'id': '45', 'name': 'Brand Vertic...</td>\n",
       "      <td>2022-07-02 12:12:04+00:00</td>\n",
       "      <td>{'urls': [{'start': 239, 'end': 262, 'url': 'h...</td>\n",
       "      <td>NaN</td>\n",
       "      <td>en</td>\n",
       "      <td>22</td>\n",
       "      <td>20</td>\n",
       "      <td>...</td>\n",
       "      <td>1</td>\n",
       "      <td>NaN</td>\n",
       "      <td>tweet</td>\n",
       "      <td>False</td>\n",
       "      <td>True</td>\n",
       "      <td>False</td>\n",
       "      <td>False</td>\n",
       "      <td>False</td>\n",
       "      <td>False</td>\n",
       "      <td>False</td>\n",
       "    </tr>\n",
       "    <tr>\n",
       "      <th>3</th>\n",
       "      <td>1543200664024760321</td>\n",
       "      <td>If legislation banning or restricting abortion...</td>\n",
       "      <td>28785486</td>\n",
       "      <td>[{'domain': {'id': '45', 'name': 'Brand Vertic...</td>\n",
       "      <td>2022-07-02 11:51:24+00:00</td>\n",
       "      <td>{'urls': [{'start': 166, 'end': 189, 'url': 'h...</td>\n",
       "      <td>NaN</td>\n",
       "      <td>en</td>\n",
       "      <td>49</td>\n",
       "      <td>36</td>\n",
       "      <td>...</td>\n",
       "      <td>6</td>\n",
       "      <td>NaN</td>\n",
       "      <td>tweet</td>\n",
       "      <td>False</td>\n",
       "      <td>True</td>\n",
       "      <td>False</td>\n",
       "      <td>False</td>\n",
       "      <td>False</td>\n",
       "      <td>False</td>\n",
       "      <td>False</td>\n",
       "    </tr>\n",
       "    <tr>\n",
       "      <th>4</th>\n",
       "      <td>1543193997329457157</td>\n",
       "      <td>“We imagined this thing being a fairytale and ...</td>\n",
       "      <td>28785486</td>\n",
       "      <td>[{'domain': {'id': '10', 'name': 'Person', 'de...</td>\n",
       "      <td>2022-07-02 11:24:54+00:00</td>\n",
       "      <td>{'urls': [{'start': 172, 'end': 195, 'url': 'h...</td>\n",
       "      <td>NaN</td>\n",
       "      <td>en</td>\n",
       "      <td>11</td>\n",
       "      <td>8</td>\n",
       "      <td>...</td>\n",
       "      <td>0</td>\n",
       "      <td>NaN</td>\n",
       "      <td>tweet</td>\n",
       "      <td>False</td>\n",
       "      <td>False</td>\n",
       "      <td>False</td>\n",
       "      <td>False</td>\n",
       "      <td>False</td>\n",
       "      <td>False</td>\n",
       "      <td>False</td>\n",
       "    </tr>\n",
       "  </tbody>\n",
       "</table>\n",
       "<p>5 rows × 21 columns</p>\n",
       "</div>"
      ],
      "text/plain": [
       "              tweet_id                                         tweet_text  \\\n",
       "0  1543217089145716737  Pentagon data shows a simple, troubling trend:...   \n",
       "1  1543211077772759042  Rescue services in Hong Kong say an industrial...   \n",
       "2  1543205864881983489  In the wake of the Supreme Court’s ruling on R...   \n",
       "3  1543200664024760321  If legislation banning or restricting abortion...   \n",
       "4  1543193997329457157  “We imagined this thing being a fairytale and ...   \n",
       "\n",
       "   tweet_author_id                          tweet_context_annotations  \\\n",
       "0         28785486  [{'domain': {'id': '45', 'name': 'Brand Vertic...   \n",
       "1         28785486  [{'domain': {'id': '45', 'name': 'Brand Vertic...   \n",
       "2         28785486  [{'domain': {'id': '45', 'name': 'Brand Vertic...   \n",
       "3         28785486  [{'domain': {'id': '45', 'name': 'Brand Vertic...   \n",
       "4         28785486  [{'domain': {'id': '10', 'name': 'Person', 'de...   \n",
       "\n",
       "            tweet_created_at  \\\n",
       "0  2022-07-02 12:56:40+00:00   \n",
       "1  2022-07-02 12:32:47+00:00   \n",
       "2  2022-07-02 12:12:04+00:00   \n",
       "3  2022-07-02 11:51:24+00:00   \n",
       "4  2022-07-02 11:24:54+00:00   \n",
       "\n",
       "                                      tweet_entities  \\\n",
       "0  {'urls': [{'start': 154, 'end': 177, 'url': 'h...   \n",
       "1  {'urls': [{'start': 162, 'end': 185, 'url': 'h...   \n",
       "2  {'urls': [{'start': 239, 'end': 262, 'url': 'h...   \n",
       "3  {'urls': [{'start': 166, 'end': 189, 'url': 'h...   \n",
       "4  {'urls': [{'start': 172, 'end': 195, 'url': 'h...   \n",
       "\n",
       "   tweet_in_reply_to_user_id tweet_lang  tweet_retweet_count  \\\n",
       "0                        NaN         en                  185   \n",
       "1                        NaN         en                   22   \n",
       "2                        NaN         en                   22   \n",
       "3                        NaN         en                   49   \n",
       "4                        NaN         en                   11   \n",
       "\n",
       "   tweet_reply_count  ...  tweet_quote_count  tweet_referenced_tweets  \\\n",
       "0                288  ...                108                      NaN   \n",
       "1                  8  ...                  0                      NaN   \n",
       "2                 20  ...                  1                      NaN   \n",
       "3                 36  ...                  6                      NaN   \n",
       "4                  8  ...                  0                      NaN   \n",
       "\n",
       "  tweet_type tweet_topic_label_us_political_news  contains_abortion_keyword  \\\n",
       "0      tweet                               False                      False   \n",
       "1      tweet                               False                      False   \n",
       "2      tweet                               False                       True   \n",
       "3      tweet                               False                       True   \n",
       "4      tweet                               False                      False   \n",
       "\n",
       "   contains_gun_control_keyword  contains_gay_marriage_keyword  \\\n",
       "0                         False                          False   \n",
       "1                         False                          False   \n",
       "2                         False                          False   \n",
       "3                         False                          False   \n",
       "4                         False                          False   \n",
       "\n",
       "   contains_climate_change_keyword  contains_gender_identity_keyword  \\\n",
       "0                            False                             False   \n",
       "1                            False                             False   \n",
       "2                            False                             False   \n",
       "3                            False                             False   \n",
       "4                            False                             False   \n",
       "\n",
       "   contains_inflation_keyword  \n",
       "0                       False  \n",
       "1                       False  \n",
       "2                       False  \n",
       "3                       False  \n",
       "4                       False  \n",
       "\n",
       "[5 rows x 21 columns]"
      ]
     },
     "execution_count": 5,
     "metadata": {},
     "output_type": "execute_result"
    }
   ],
   "source": [
    "# twitter_combined_tweet_labelled_data\n",
    "\n",
    "twitter_combined_tweet_labelled_data = pd.read_csv (r'/Users/katherina/data_science_tweets_neutrality/twitter_combined_tweet_labelled_data.csv')\n",
    "twitter_combined_tweet_labelled_data.head()"
   ]
  },
  {
   "cell_type": "code",
   "execution_count": 37,
   "id": "8635981c",
   "metadata": {},
   "outputs": [
    {
     "data": {
      "text/plain": [
       "(158515, 22)"
      ]
     },
     "execution_count": 37,
     "metadata": {},
     "output_type": "execute_result"
    }
   ],
   "source": [
    "twitter_combined_tweet_labelled_data.shape"
   ]
  },
  {
   "cell_type": "markdown",
   "id": "5f76356e",
   "metadata": {},
   "source": [
    "## test the analyser"
   ]
  },
  {
   "cell_type": "code",
   "execution_count": 6,
   "id": "0297d3dc",
   "metadata": {},
   "outputs": [],
   "source": [
    "tweet_data = twitter_combined_tweet_labelled_data"
   ]
  },
  {
   "cell_type": "code",
   "execution_count": 7,
   "id": "42bc448e",
   "metadata": {},
   "outputs": [
    {
     "data": {
      "text/plain": [
       "'Pentagon data shows a simple, troubling trend: Fewer and fewer young Americans want to serve, and due to obesity and other problems, fewer are qualified. https://t.co/XjmyvZHfZS'"
      ]
     },
     "execution_count": 7,
     "metadata": {},
     "output_type": "execute_result"
    }
   ],
   "source": [
    "tweet_text = tweet_data.tweet_text[0]\n",
    "tweet_text"
   ]
  },
  {
   "cell_type": "code",
   "execution_count": 8,
   "id": "03051c28",
   "metadata": {},
   "outputs": [
    {
     "data": {
      "text/plain": [
       "{'neg': 0.203, 'neu': 0.754, 'pos': 0.043, 'compound': -0.7096}"
      ]
     },
     "execution_count": 8,
     "metadata": {},
     "output_type": "execute_result"
    }
   ],
   "source": [
    "analyser.polarity_scores(tweet_text)"
   ]
  },
  {
   "cell_type": "code",
   "execution_count": 9,
   "id": "cbe71d24",
   "metadata": {},
   "outputs": [
    {
     "data": {
      "text/plain": [
       "{'neg': 0.0, 'neu': 0.0, 'pos': 1.0, 'compound': 0.4588}"
      ]
     },
     "execution_count": 9,
     "metadata": {},
     "output_type": "execute_result"
    }
   ],
   "source": [
    "analyser.polarity_scores(\":)\")"
   ]
  },
  {
   "cell_type": "code",
   "execution_count": 10,
   "id": "160a25f5",
   "metadata": {},
   "outputs": [
    {
     "data": {
      "text/plain": [
       "{'neg': 0.0, 'neu': 0.286, 'pos': 0.714, 'compound': 0.3612}"
      ]
     },
     "execution_count": 10,
     "metadata": {},
     "output_type": "execute_result"
    }
   ],
   "source": [
    "analyser.polarity_scores(\"😀\")"
   ]
  },
  {
   "cell_type": "code",
   "execution_count": 11,
   "id": "a5242429",
   "metadata": {},
   "outputs": [
    {
     "data": {
      "text/plain": [
       "{'neg': 0.0, 'neu': 0.408, 'pos': 0.592, 'compound': 0.4404}"
      ]
     },
     "execution_count": 11,
     "metadata": {},
     "output_type": "execute_result"
    }
   ],
   "source": [
    "analyser.polarity_scores(\"That is good\")"
   ]
  },
  {
   "cell_type": "code",
   "execution_count": 12,
   "id": "b9c4d895",
   "metadata": {},
   "outputs": [
    {
     "data": {
      "text/plain": [
       "{'neg': 0.0, 'neu': 0.355, 'pos': 0.645, 'compound': 0.5622}"
      ]
     },
     "execution_count": 12,
     "metadata": {},
     "output_type": "execute_result"
    }
   ],
   "source": [
    "analyser.polarity_scores(\"That is GOOD\")"
   ]
  },
  {
   "cell_type": "code",
   "execution_count": 13,
   "id": "03df78c3",
   "metadata": {},
   "outputs": [
    {
     "data": {
      "text/plain": [
       "{'neg': 0.0, 'neu': 0.408, 'pos': 0.592, 'compound': 0.4404}"
      ]
     },
     "execution_count": 13,
     "metadata": {},
     "output_type": "execute_result"
    }
   ],
   "source": [
    "analyser.polarity_scores(\"That is good.\")"
   ]
  },
  {
   "cell_type": "code",
   "execution_count": 14,
   "id": "df04a56f",
   "metadata": {},
   "outputs": [
    {
     "data": {
      "text/plain": [
       "{'neg': 0.0, 'neu': 0.408, 'pos': 0.592, 'compound': 0.4404}"
      ]
     },
     "execution_count": 14,
     "metadata": {},
     "output_type": "execute_result"
    }
   ],
   "source": [
    "analyser.polarity_scores(\"That is Good.\")"
   ]
  },
  {
   "cell_type": "code",
   "execution_count": 15,
   "id": "160b35b2",
   "metadata": {},
   "outputs": [
    {
     "data": {
      "text/plain": [
       "{'neg': 0.0, 'neu': 0.385, 'pos': 0.615, 'compound': 0.4926}"
      ]
     },
     "execution_count": 15,
     "metadata": {},
     "output_type": "execute_result"
    }
   ],
   "source": [
    "analyser.polarity_scores(\"That is Good!\")"
   ]
  },
  {
   "cell_type": "code",
   "execution_count": 16,
   "id": "5b64eba0",
   "metadata": {},
   "outputs": [
    {
     "data": {
      "text/plain": [
       "{'neg': 0.0, 'neu': 0.408, 'pos': 0.592, 'compound': 0.4404}"
      ]
     },
     "execution_count": 16,
     "metadata": {},
     "output_type": "execute_result"
    }
   ],
   "source": [
    "analyser.polarity_scores(\"That is good...\")"
   ]
  },
  {
   "cell_type": "code",
   "execution_count": 17,
   "id": "825dfd0a",
   "metadata": {},
   "outputs": [
    {
     "data": {
      "text/plain": [
       "{'neg': 0.0, 'neu': 0.508, 'pos': 0.492, 'compound': 0.4404}"
      ]
     },
     "execution_count": 17,
     "metadata": {},
     "output_type": "execute_result"
    }
   ],
   "source": [
    "analyser.polarity_scores(\"That is 1 good.\")"
   ]
  },
  {
   "cell_type": "code",
   "execution_count": 18,
   "id": "81fb659b",
   "metadata": {},
   "outputs": [
    {
     "data": {
      "text/plain": [
       "{'neg': 0.445, 'neu': 0.555, 'pos': 0.0, 'compound': -0.3412}"
      ]
     },
     "execution_count": 18,
     "metadata": {},
     "output_type": "execute_result"
    }
   ],
   "source": [
    "analyser.polarity_scores(\"That is not good.\")"
   ]
  },
  {
   "cell_type": "code",
   "execution_count": 19,
   "id": "4903bf07",
   "metadata": {},
   "outputs": [
    {
     "data": {
      "text/plain": [
       "{'neg': 0.0, 'neu': 0.408, 'pos': 0.592, 'compound': 0.4404}"
      ]
     },
     "execution_count": 19,
     "metadata": {},
     "output_type": "execute_result"
    }
   ],
   "source": [
    "analyser.polarity_scores(\"That is 'good'.\")"
   ]
  },
  {
   "cell_type": "code",
   "execution_count": 20,
   "id": "3a0cf421",
   "metadata": {},
   "outputs": [
    {
     "data": {
      "text/plain": [
       "{'neg': 0.0, 'neu': 0.508, 'pos': 0.492, 'compound': 0.4404}"
      ]
     },
     "execution_count": 20,
     "metadata": {},
     "output_type": "execute_result"
    }
   ],
   "source": [
    "analyser.polarity_scores(\"That is good :).\")"
   ]
  },
  {
   "cell_type": "code",
   "execution_count": 21,
   "id": "668ee7b7",
   "metadata": {},
   "outputs": [
    {
     "data": {
      "text/plain": [
       "{'neg': 0.0, 'neu': 0.408, 'pos': 0.592, 'compound': 0.4404}"
      ]
     },
     "execution_count": 21,
     "metadata": {},
     "output_type": "execute_result"
    }
   ],
   "source": [
    "analyser.polarity_scores(\"That is #good.\")"
   ]
  },
  {
   "cell_type": "code",
   "execution_count": 22,
   "id": "017b8e93",
   "metadata": {},
   "outputs": [
    {
     "data": {
      "text/plain": [
       "{'neg': 0.0, 'neu': 0.408, 'pos': 0.592, 'compound': 0.4404}"
      ]
     },
     "execution_count": 22,
     "metadata": {},
     "output_type": "execute_result"
    }
   ],
   "source": [
    "analyser.polarity_scores(\"Is that good?\")"
   ]
  },
  {
   "cell_type": "code",
   "execution_count": 23,
   "id": "de0a5c35",
   "metadata": {},
   "outputs": [
    {
     "data": {
      "text/plain": [
       "{'neg': 0.0, 'neu': 0.508, 'pos': 0.492, 'compound': 0.4404}"
      ]
     },
     "execution_count": 23,
     "metadata": {},
     "output_type": "execute_result"
    }
   ],
   "source": [
    "analyser.polarity_scores(\"That is good @123.\")"
   ]
  },
  {
   "cell_type": "code",
   "execution_count": 24,
   "id": "0105572e",
   "metadata": {},
   "outputs": [
    {
     "data": {
      "text/plain": [
       "{'neg': 0.0, 'neu': 0.508, 'pos': 0.492, 'compound': 0.4404}"
      ]
     },
     "execution_count": 24,
     "metadata": {},
     "output_type": "execute_result"
    }
   ],
   "source": [
    "analyser.polarity_scores(\"That is good https://github.com/.\")"
   ]
  },
  {
   "cell_type": "code",
   "execution_count": 25,
   "id": "7f04264d",
   "metadata": {},
   "outputs": [
    {
     "data": {
      "text/plain": [
       "{'neg': 0.0, 'neu': 0.508, 'pos': 0.492, 'compound': 0.4404}"
      ]
     },
     "execution_count": 25,
     "metadata": {},
     "output_type": "execute_result"
    }
   ],
   "source": [
    "analyser.polarity_scores(\"That is $ good\")"
   ]
  },
  {
   "cell_type": "code",
   "execution_count": 26,
   "id": "81e4197b",
   "metadata": {},
   "outputs": [
    {
     "data": {
      "text/plain": [
       "{'neg': 0.0, 'neu': 0.508, 'pos': 0.492, 'compound': 0.4404}"
      ]
     },
     "execution_count": 26,
     "metadata": {},
     "output_type": "execute_result"
    }
   ],
   "source": [
    "analyser.polarity_scores(\"That is $1 good\")"
   ]
  },
  {
   "cell_type": "code",
   "execution_count": 27,
   "id": "962611c3",
   "metadata": {},
   "outputs": [
    {
     "data": {
      "text/plain": [
       "{'neg': 0.0, 'neu': 0.408, 'pos': 0.592, 'compound': 0.4404}"
      ]
     },
     "execution_count": 27,
     "metadata": {},
     "output_type": "execute_result"
    }
   ],
   "source": [
    "analyser.polarity_scores(\"That is: good\")"
   ]
  },
  {
   "cell_type": "markdown",
   "id": "df1ea78e",
   "metadata": {},
   "source": [
    "## text preprocessing"
   ]
  },
  {
   "cell_type": "code",
   "execution_count": 28,
   "id": "6947268d",
   "metadata": {},
   "outputs": [],
   "source": [
    "#cleaning the tweets\n",
    "def remove_pattern(input_txt, pattern):\n",
    "    r = re.findall(pattern, input_txt)\n",
    "    for i in r:\n",
    "        input_txt = re.sub(i, '', input_txt)        \n",
    "    return input_txt\n",
    "def clean_tweets(tweets):\n",
    "    #remove twitter handles (@xxx)\n",
    "    tweets = np.vectorize(remove_pattern)(tweets, \"@[\\w]*\")\n",
    "    \n",
    "    #remove URL links (httpxxx)\n",
    "    tweets = np.vectorize(remove_pattern)(tweets, \"(?:(?:https?|ftp|file)://|www.[A-Za-z0-9./]+)(?:[A-Za-z0-9./]*)\")\n",
    "    \n",
    "    #remove currency sympols ($£€)\n",
    "    tweets = np.vectorize(remove_pattern)(tweets, \"\\p{Sc}\")\n",
    "    \n",
    "    #remove numbers (httpxxx)\n",
    "    #tweets = np.vectorize(remove_pattern)(tweets, \"\\d+\")\n",
    "    \n",
    "    #remove special characters, numbers, punctuations (except for #)\n",
    "    #tweets = np.core.defchararray.replace(tweets, \"[^a-zA-Z]\", \" \")\n",
    "    \n",
    "    return tweets"
   ]
  },
  {
   "cell_type": "code",
   "execution_count": 29,
   "id": "e35989dd",
   "metadata": {},
   "outputs": [
    {
     "data": {
      "text/plain": [
       "0    Pentagon data shows a simple, troubling trend:...\n",
       "1    Rescue services in Hong Kong say an industrial...\n",
       "2    In the wake of the Supreme Court’s ruling on R...\n",
       "3    If legislation banning or restricting abortion...\n",
       "4    “We imagined this thing being a fairytale and ...\n",
       "Name: cleaned_tweet_text, dtype: object"
      ]
     },
     "execution_count": 29,
     "metadata": {},
     "output_type": "execute_result"
    }
   ],
   "source": [
    "tweet_data['cleaned_tweet_text'] = clean_tweets(tweet_data['tweet_text'])\n",
    "tweet_data['cleaned_tweet_text'].head()"
   ]
  },
  {
   "cell_type": "code",
   "execution_count": 30,
   "id": "4e4be754",
   "metadata": {},
   "outputs": [
    {
     "name": "stdout",
     "output_type": "stream",
     "text": [
      "original_tweet_text: Pentagon data shows a simple, troubling trend: Fewer and fewer young Americans want to serve, and due to obesity and other problems, fewer are qualified. https://t.co/XjmyvZHfZS \n",
      "scores {'neg': 0.203, 'neu': 0.754, 'pos': 0.043, 'compound': -0.7096} \n",
      "\n",
      "cleaned_tweet_text: Pentagon data shows a simple, troubling trend: Fewer and fewer young Americans want to serve, and due to obesity and other problems, fewer are qualified.  \n",
      "scores {'neg': 0.21, 'neu': 0.746, 'pos': 0.044, 'compound': -0.7096}\n"
     ]
    }
   ],
   "source": [
    "tweet_text = tweet_data.tweet_text[0]\n",
    "cleaned_tweet_text = tweet_data.cleaned_tweet_text[0]\n",
    "\n",
    "print(\"original_tweet_text:\",tweet_text, \"\\nscores\",analyser.polarity_scores(tweet_text),\n",
    "      \"\\n\\ncleaned_tweet_text:\",cleaned_tweet_text, \"\\nscores\",analyser.polarity_scores(cleaned_tweet_text))"
   ]
  },
  {
   "cell_type": "code",
   "execution_count": 31,
   "id": "8645b599",
   "metadata": {},
   "outputs": [
    {
     "name": "stdout",
     "output_type": "stream",
     "text": [
      "original_tweet_text: Rescue services in Hong Kong say an industrial support ship operating in the South China Sea has sunk with the possible loss of more than two dozen crew members. https://t.co/TKDSoWTjdj \n",
      "scores {'neg': 0.065, 'neu': 0.765, 'pos': 0.17, 'compound': 0.5719} \n",
      "\n",
      "cleaned_tweet_text: Rescue services in Hong Kong say an industrial support ship operating in the South China Sea has sunk with the possible loss of more than two dozen crew members.  \n",
      "scores {'neg': 0.067, 'neu': 0.758, 'pos': 0.175, 'compound': 0.5719}\n"
     ]
    }
   ],
   "source": [
    "tweet_text = tweet_data.tweet_text[1]\n",
    "cleaned_tweet_text = tweet_data.cleaned_tweet_text[1]\n",
    "\n",
    "print(\"original_tweet_text:\",tweet_text, \"\\nscores\",analyser.polarity_scores(tweet_text),\n",
    "      \"\\n\\ncleaned_tweet_text:\",cleaned_tweet_text, \"\\nscores\",analyser.polarity_scores(cleaned_tweet_text))"
   ]
  },
  {
   "cell_type": "code",
   "execution_count": 32,
   "id": "b770a308",
   "metadata": {},
   "outputs": [],
   "source": [
    "# save the data to a csv file\n",
    "tweet_data.to_csv (r'/Users/katherina/data_science_tweets_neutrality/twitter_combined_tweet_labelled_cleaned_data.csv', index = False, header=True)"
   ]
  },
  {
   "cell_type": "code",
   "execution_count": 33,
   "id": "652059a1",
   "metadata": {},
   "outputs": [
    {
     "data": {
      "text/html": [
       "<div>\n",
       "<style scoped>\n",
       "    .dataframe tbody tr th:only-of-type {\n",
       "        vertical-align: middle;\n",
       "    }\n",
       "\n",
       "    .dataframe tbody tr th {\n",
       "        vertical-align: top;\n",
       "    }\n",
       "\n",
       "    .dataframe thead th {\n",
       "        text-align: right;\n",
       "    }\n",
       "</style>\n",
       "<table border=\"1\" class=\"dataframe\">\n",
       "  <thead>\n",
       "    <tr style=\"text-align: right;\">\n",
       "      <th></th>\n",
       "      <th>tweet_id</th>\n",
       "      <th>scores_compound</th>\n",
       "      <th>scores_positive</th>\n",
       "      <th>scores_negative</th>\n",
       "      <th>scores_neutral</th>\n",
       "    </tr>\n",
       "  </thead>\n",
       "  <tbody>\n",
       "    <tr>\n",
       "      <th>0</th>\n",
       "      <td>1543217089145716737</td>\n",
       "      <td>-0.7096</td>\n",
       "      <td>0.044</td>\n",
       "      <td>0.210</td>\n",
       "      <td>0.746</td>\n",
       "    </tr>\n",
       "    <tr>\n",
       "      <th>1</th>\n",
       "      <td>1543211077772759042</td>\n",
       "      <td>0.5719</td>\n",
       "      <td>0.175</td>\n",
       "      <td>0.067</td>\n",
       "      <td>0.758</td>\n",
       "    </tr>\n",
       "    <tr>\n",
       "      <th>2</th>\n",
       "      <td>1543205864881983489</td>\n",
       "      <td>0.3892</td>\n",
       "      <td>0.107</td>\n",
       "      <td>0.052</td>\n",
       "      <td>0.841</td>\n",
       "    </tr>\n",
       "    <tr>\n",
       "      <th>3</th>\n",
       "      <td>1543200664024760321</td>\n",
       "      <td>-0.5719</td>\n",
       "      <td>0.000</td>\n",
       "      <td>0.176</td>\n",
       "      <td>0.824</td>\n",
       "    </tr>\n",
       "    <tr>\n",
       "      <th>4</th>\n",
       "      <td>1543193997329457157</td>\n",
       "      <td>0.0000</td>\n",
       "      <td>0.000</td>\n",
       "      <td>0.000</td>\n",
       "      <td>1.000</td>\n",
       "    </tr>\n",
       "  </tbody>\n",
       "</table>\n",
       "</div>"
      ],
      "text/plain": [
       "              tweet_id  scores_compound  scores_positive  scores_negative  \\\n",
       "0  1543217089145716737          -0.7096            0.044            0.210   \n",
       "1  1543211077772759042           0.5719            0.175            0.067   \n",
       "2  1543205864881983489           0.3892            0.107            0.052   \n",
       "3  1543200664024760321          -0.5719            0.000            0.176   \n",
       "4  1543193997329457157           0.0000            0.000            0.000   \n",
       "\n",
       "   scores_neutral  \n",
       "0           0.746  \n",
       "1           0.758  \n",
       "2           0.841  \n",
       "3           0.824  \n",
       "4           1.000  "
      ]
     },
     "execution_count": 33,
     "metadata": {},
     "output_type": "execute_result"
    }
   ],
   "source": [
    "tweet_polarity_scores = []\n",
    "\n",
    "for i in range(tweet_data['cleaned_tweet_text'].shape[0]):\n",
    "    tweet_id = tweet_data['tweet_id'][i]\n",
    "    compound = analyser.polarity_scores(tweet_data['cleaned_tweet_text'][i])[\"compound\"]\n",
    "    pos = analyser.polarity_scores(tweet_data['cleaned_tweet_text'][i])[\"pos\"]\n",
    "    neu = analyser.polarity_scores(tweet_data['cleaned_tweet_text'][i])[\"neu\"]\n",
    "    neg = analyser.polarity_scores(tweet_data['cleaned_tweet_text'][i])[\"neg\"]\n",
    "    \n",
    "    tweet_polarity_scores.append({\"tweet_id\": tweet_id,\n",
    "                       \"scores_compound\": compound,\n",
    "                       \"scores_positive\": pos,\n",
    "                       \"scores_negative\": neg,\n",
    "                       \"scores_neutral\": neu\n",
    "                  })\n",
    "\n",
    "tweet_sentiments_score = pd.DataFrame.from_dict(tweet_polarity_scores)\n",
    "tweet_sentiments_score.head()"
   ]
  },
  {
   "cell_type": "code",
   "execution_count": 38,
   "id": "1dc7bf6c",
   "metadata": {},
   "outputs": [
    {
     "data": {
      "text/plain": [
       "(158515, 5)"
      ]
     },
     "execution_count": 38,
     "metadata": {},
     "output_type": "execute_result"
    }
   ],
   "source": [
    "tweet_sentiments_score.shape"
   ]
  },
  {
   "cell_type": "code",
   "execution_count": 39,
   "id": "61e51e9a",
   "metadata": {},
   "outputs": [
    {
     "data": {
      "text/plain": [
       "tweet_id           0\n",
       "scores_compound    0\n",
       "scores_positive    0\n",
       "scores_negative    0\n",
       "scores_neutral     0\n",
       "dtype: int64"
      ]
     },
     "execution_count": 39,
     "metadata": {},
     "output_type": "execute_result"
    }
   ],
   "source": [
    "tweet_sentiments_score.isnull().sum()"
   ]
  },
  {
   "cell_type": "code",
   "execution_count": 34,
   "id": "db6d4539",
   "metadata": {},
   "outputs": [],
   "source": [
    "# save the data to a csv file\n",
    "tweet_sentiments_score.to_csv (r'/Users/katherina/data_science_tweets_neutrality/twitter_tweet_sentiments_score_data.csv', index = False, header=True)"
   ]
  },
  {
   "cell_type": "code",
   "execution_count": null,
   "id": "0bc47249",
   "metadata": {},
   "outputs": [],
   "source": []
  }
 ],
 "metadata": {
  "kernelspec": {
   "display_name": "Python 3 (ipykernel)",
   "language": "python",
   "name": "python3"
  },
  "language_info": {
   "codemirror_mode": {
    "name": "ipython",
    "version": 3
   },
   "file_extension": ".py",
   "mimetype": "text/x-python",
   "name": "python",
   "nbconvert_exporter": "python",
   "pygments_lexer": "ipython3",
   "version": "3.9.12"
  }
 },
 "nbformat": 4,
 "nbformat_minor": 5
}
